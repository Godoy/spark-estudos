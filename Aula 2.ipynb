{
 "cells": [
  {
   "cell_type": "code",
   "execution_count": 1,
   "metadata": {},
   "outputs": [],
   "source": [
    "import os\n",
    "os.environ['TZ'] = 'America/New_York'"
   ]
  },
  {
   "cell_type": "code",
   "execution_count": 2,
   "metadata": {},
   "outputs": [],
   "source": [
    "import pandas\n",
    "import seaborn as sns\n",
    "reviews = pandas.read_csv(\"reviews_bootcamp.csv\")"
   ]
  },
  {
   "cell_type": "code",
   "execution_count": 3,
   "metadata": {},
   "outputs": [
    {
     "data": {
      "text/html": [
       "<div>\n",
       "<style scoped>\n",
       "    .dataframe tbody tr th:only-of-type {\n",
       "        vertical-align: middle;\n",
       "    }\n",
       "\n",
       "    .dataframe tbody tr th {\n",
       "        vertical-align: top;\n",
       "    }\n",
       "\n",
       "    .dataframe thead th {\n",
       "        text-align: right;\n",
       "    }\n",
       "</style>\n",
       "<table border=\"1\" class=\"dataframe\">\n",
       "  <thead>\n",
       "    <tr style=\"text-align: right;\">\n",
       "      <th></th>\n",
       "      <th>asin</th>\n",
       "      <th>helpful</th>\n",
       "      <th>overall</th>\n",
       "      <th>reviewText</th>\n",
       "      <th>reviewTime</th>\n",
       "      <th>reviewerID</th>\n",
       "      <th>reviewerName</th>\n",
       "      <th>summary</th>\n",
       "      <th>unixReviewTime</th>\n",
       "      <th>helpful_unhelp</th>\n",
       "      <th>helpful_frac</th>\n",
       "    </tr>\n",
       "  </thead>\n",
       "  <tbody>\n",
       "    <tr>\n",
       "      <th>43530</th>\n",
       "      <td>B0000C0FBM</td>\n",
       "      <td>[7, 10]</td>\n",
       "      <td>5</td>\n",
       "      <td>I am sorry but I am sick of people saying that...</td>\n",
       "      <td>03 11, 2005</td>\n",
       "      <td>A2GPUFRP0HV6XW</td>\n",
       "      <td>J. Sutherland \"zeppfan\"</td>\n",
       "      <td>Derivative?</td>\n",
       "      <td>1110499200</td>\n",
       "      <td>3</td>\n",
       "      <td>0.700000</td>\n",
       "    </tr>\n",
       "    <tr>\n",
       "      <th>46155</th>\n",
       "      <td>B0002A2WAO</td>\n",
       "      <td>[1, 1]</td>\n",
       "      <td>5</td>\n",
       "      <td>Lloyd Banks Hunger For More is in tha top five...</td>\n",
       "      <td>07 10, 2004</td>\n",
       "      <td>A61V9CDWK2RQN</td>\n",
       "      <td>Dee Talley \"lilthug82001\"</td>\n",
       "      <td>hunger for more/ do u get tha message 50</td>\n",
       "      <td>1089417600</td>\n",
       "      <td>0</td>\n",
       "      <td>1.000000</td>\n",
       "    </tr>\n",
       "    <tr>\n",
       "      <th>53505</th>\n",
       "      <td>B000J103X4</td>\n",
       "      <td>[3, 3]</td>\n",
       "      <td>4</td>\n",
       "      <td>PROS.THE GAME IS A GREAT MC WHO HAS A GOOD FUT...</td>\n",
       "      <td>01 16, 2007</td>\n",
       "      <td>A2XQ48481DIO80</td>\n",
       "      <td>streets is watching \"critic in the making\"</td>\n",
       "      <td>can the game make up his mind!</td>\n",
       "      <td>1168905600</td>\n",
       "      <td>0</td>\n",
       "      <td>1.000000</td>\n",
       "    </tr>\n",
       "    <tr>\n",
       "      <th>3968</th>\n",
       "      <td>B000001E46</td>\n",
       "      <td>[1, 1]</td>\n",
       "      <td>4</td>\n",
       "      <td>One may question whether Martin Page was a \"on...</td>\n",
       "      <td>08 24, 2006</td>\n",
       "      <td>A2NQUGGYM0DBM1</td>\n",
       "      <td>L.A. Scene</td>\n",
       "      <td>Solid Album - It's Too Bad Martin Page Didn't ...</td>\n",
       "      <td>1156377600</td>\n",
       "      <td>0</td>\n",
       "      <td>1.000000</td>\n",
       "    </tr>\n",
       "    <tr>\n",
       "      <th>56619</th>\n",
       "      <td>B001BNK58W</td>\n",
       "      <td>[1, 9]</td>\n",
       "      <td>2</td>\n",
       "      <td>\"Don't Trust Me\" by 3OH!3 is an odd techno/rap...</td>\n",
       "      <td>07 20, 2009</td>\n",
       "      <td>A3EBHHCZO6V2A4</td>\n",
       "      <td>Amaranth \"music fan\"</td>\n",
       "      <td>\"Do the Helen Keller and talk with your hips\"</td>\n",
       "      <td>1248048000</td>\n",
       "      <td>8</td>\n",
       "      <td>0.111111</td>\n",
       "    </tr>\n",
       "  </tbody>\n",
       "</table>\n",
       "</div>"
      ],
      "text/plain": [
       "             asin  helpful  overall  \\\n",
       "43530  B0000C0FBM  [7, 10]        5   \n",
       "46155  B0002A2WAO   [1, 1]        5   \n",
       "53505  B000J103X4   [3, 3]        4   \n",
       "3968   B000001E46   [1, 1]        4   \n",
       "56619  B001BNK58W   [1, 9]        2   \n",
       "\n",
       "                                              reviewText   reviewTime  \\\n",
       "43530  I am sorry but I am sick of people saying that...  03 11, 2005   \n",
       "46155  Lloyd Banks Hunger For More is in tha top five...  07 10, 2004   \n",
       "53505  PROS.THE GAME IS A GREAT MC WHO HAS A GOOD FUT...  01 16, 2007   \n",
       "3968   One may question whether Martin Page was a \"on...  08 24, 2006   \n",
       "56619  \"Don't Trust Me\" by 3OH!3 is an odd techno/rap...  07 20, 2009   \n",
       "\n",
       "           reviewerID                                reviewerName  \\\n",
       "43530  A2GPUFRP0HV6XW                     J. Sutherland \"zeppfan\"   \n",
       "46155   A61V9CDWK2RQN                   Dee Talley \"lilthug82001\"   \n",
       "53505  A2XQ48481DIO80  streets is watching \"critic in the making\"   \n",
       "3968   A2NQUGGYM0DBM1                                  L.A. Scene   \n",
       "56619  A3EBHHCZO6V2A4                        Amaranth \"music fan\"   \n",
       "\n",
       "                                                 summary  unixReviewTime  \\\n",
       "43530                                        Derivative?      1110499200   \n",
       "46155           hunger for more/ do u get tha message 50      1089417600   \n",
       "53505                     can the game make up his mind!      1168905600   \n",
       "3968   Solid Album - It's Too Bad Martin Page Didn't ...      1156377600   \n",
       "56619      \"Do the Helen Keller and talk with your hips\"      1248048000   \n",
       "\n",
       "       helpful_unhelp  helpful_frac  \n",
       "43530               3      0.700000  \n",
       "46155               0      1.000000  \n",
       "53505               0      1.000000  \n",
       "3968                0      1.000000  \n",
       "56619               8      0.111111  "
      ]
     },
     "execution_count": 3,
     "metadata": {},
     "output_type": "execute_result"
    }
   ],
   "source": [
    "reviews.sample(5)"
   ]
  },
  {
   "cell_type": "code",
   "execution_count": 4,
   "metadata": {},
   "outputs": [],
   "source": [
    "\n",
    "# average_reviews_by_product = reviews.groupby(\"asin\").helpful_frac.mean()\n",
    "# average_reviews_by_product.sample(5)\n",
    "\n",
    "# #.groupby(\"asin\").count()\n",
    "# # average_reviews_by_product.head()\n",
    "# # average_reviews_by_product.sample(5)\n",
    "\n",
    "# df = pd.DataFrame(data=average_reviews_by_product)\n",
    "# average_reviews_by_product.head(5)\n",
    "# df[\"frequency\"] = reviews.groupby(\"asin\").count()[\"helpful\"]\n",
    "# # asin, frac, quanti\n",
    "\n",
    "# frequency_average_frac = df.groupby(\"frequency\").helpful_frac.mean()\n",
    "# df2 = pd.DataFrame(data=frequency_average_frac)\n",
    "# df2[\"frequency2\"] \n",
    "# # df[\"frequency\"] \n",
    "# df2.sample(10)\n",
    "\n",
    "# import seaborn as sns\n",
    "\n",
    "# sns.boxplot(\"helpful_frac\", \"frequency\", data = df2)\n",
    "# # df.frequency.hist()\n",
    "\n"
   ]
  },
  {
   "cell_type": "code",
   "execution_count": 5,
   "metadata": {},
   "outputs": [],
   "source": [
    "reviews_produto_frequente = reviews[\n",
    "    reviews[\"asin\"] == reviews[\"asin\"].describe().top\n",
    "]"
   ]
  },
  {
   "cell_type": "code",
   "execution_count": 6,
   "metadata": {},
   "outputs": [
    {
     "data": {
      "text/plain": [
       "<matplotlib.axes._subplots.AxesSubplot at 0x7fcb7a8ba6a0>"
      ]
     },
     "execution_count": 6,
     "metadata": {},
     "output_type": "execute_result"
    },
    {
     "data": {
      "image/png": "[encoded data removed]",
      "text/plain": [
       "<Figure size 432x288 with 1 Axes>"
      ]
     },
     "metadata": {
      "needs_background": "light"
     },
     "output_type": "display_data"
    }
   ],
   "source": [
    "%matplotlib inline\n",
    "sns.boxplot(\"overall\", \"helpful_frac\", data=reviews_produto_frequente)"
   ]
  },
  {
   "cell_type": "code",
   "execution_count": 7,
   "metadata": {},
   "outputs": [
    {
     "data": {
      "text/html": [
       "<div>\n",
       "<style scoped>\n",
       "    .dataframe tbody tr th:only-of-type {\n",
       "        vertical-align: middle;\n",
       "    }\n",
       "\n",
       "    .dataframe tbody tr th {\n",
       "        vertical-align: top;\n",
       "    }\n",
       "\n",
       "    .dataframe thead th {\n",
       "        text-align: right;\n",
       "    }\n",
       "</style>\n",
       "<table border=\"1\" class=\"dataframe\">\n",
       "  <thead>\n",
       "    <tr style=\"text-align: right;\">\n",
       "      <th></th>\n",
       "      <th>0</th>\n",
       "      <th>1</th>\n",
       "    </tr>\n",
       "  </thead>\n",
       "  <tbody>\n",
       "    <tr>\n",
       "      <th>0</th>\n",
       "      <td>3</td>\n",
       "      <td>3</td>\n",
       "    </tr>\n",
       "    <tr>\n",
       "      <th>1</th>\n",
       "      <td>0</td>\n",
       "      <td>0</td>\n",
       "    </tr>\n",
       "    <tr>\n",
       "      <th>2</th>\n",
       "      <td>2</td>\n",
       "      <td>2</td>\n",
       "    </tr>\n",
       "    <tr>\n",
       "      <th>3</th>\n",
       "      <td>1</td>\n",
       "      <td>1</td>\n",
       "    </tr>\n",
       "    <tr>\n",
       "      <th>4</th>\n",
       "      <td>1</td>\n",
       "      <td>1</td>\n",
       "    </tr>\n",
       "  </tbody>\n",
       "</table>\n",
       "</div>"
      ],
      "text/plain": [
       "   0  1\n",
       "0  3  3\n",
       "1  0  0\n",
       "2  2  2\n",
       "3  1  1\n",
       "4  1  1"
      ]
     },
     "execution_count": 7,
     "metadata": {},
     "output_type": "execute_result"
    }
   ],
   "source": [
    "reviews.helpful = reviews.helpful.apply(eval)\n",
    "helpful_separado = reviews.helpful.apply(pandas.Series)\n",
    "helpful_separado.head()"
   ]
  },
  {
   "cell_type": "code",
   "execution_count": 8,
   "metadata": {},
   "outputs": [
    {
     "data": {
      "text/html": [
       "<div>\n",
       "<style scoped>\n",
       "    .dataframe tbody tr th:only-of-type {\n",
       "        vertical-align: middle;\n",
       "    }\n",
       "\n",
       "    .dataframe tbody tr th {\n",
       "        vertical-align: top;\n",
       "    }\n",
       "\n",
       "    .dataframe thead th {\n",
       "        text-align: right;\n",
       "    }\n",
       "</style>\n",
       "<table border=\"1\" class=\"dataframe\">\n",
       "  <thead>\n",
       "    <tr style=\"text-align: right;\">\n",
       "      <th></th>\n",
       "      <th>is_helpful</th>\n",
       "      <th>total_helpful</th>\n",
       "    </tr>\n",
       "  </thead>\n",
       "  <tbody>\n",
       "    <tr>\n",
       "      <th>0</th>\n",
       "      <td>3</td>\n",
       "      <td>3</td>\n",
       "    </tr>\n",
       "    <tr>\n",
       "      <th>1</th>\n",
       "      <td>0</td>\n",
       "      <td>0</td>\n",
       "    </tr>\n",
       "    <tr>\n",
       "      <th>2</th>\n",
       "      <td>2</td>\n",
       "      <td>2</td>\n",
       "    </tr>\n",
       "    <tr>\n",
       "      <th>3</th>\n",
       "      <td>1</td>\n",
       "      <td>1</td>\n",
       "    </tr>\n",
       "    <tr>\n",
       "      <th>4</th>\n",
       "      <td>1</td>\n",
       "      <td>1</td>\n",
       "    </tr>\n",
       "  </tbody>\n",
       "</table>\n",
       "</div>"
      ],
      "text/plain": [
       "   is_helpful  total_helpful\n",
       "0           3              3\n",
       "1           0              0\n",
       "2           2              2\n",
       "3           1              1\n",
       "4           1              1"
      ]
     },
     "execution_count": 8,
     "metadata": {},
     "output_type": "execute_result"
    }
   ],
   "source": [
    "helpful_rename = helpful_separado.rename(\n",
    "    columns={0:\"is_helpful\", 1: \"total_helpful\"}\n",
    ")\n",
    "helpful_rename.head()"
   ]
  },
  {
   "cell_type": "code",
   "execution_count": 9,
   "metadata": {},
   "outputs": [],
   "source": [
    "novas_datas = reviews.reviewTime.apply(pandas.to_datetime)\n",
    "# ou pandas.to_datetime(reviews.reviewTime)"
   ]
  },
  {
   "cell_type": "code",
   "execution_count": 10,
   "metadata": {},
   "outputs": [
    {
     "data": {
      "text/html": [
       "<div>\n",
       "<style scoped>\n",
       "    .dataframe tbody tr th:only-of-type {\n",
       "        vertical-align: middle;\n",
       "    }\n",
       "\n",
       "    .dataframe tbody tr th {\n",
       "        vertical-align: top;\n",
       "    }\n",
       "\n",
       "    .dataframe thead th {\n",
       "        text-align: right;\n",
       "    }\n",
       "</style>\n",
       "<table border=\"1\" class=\"dataframe\">\n",
       "  <thead>\n",
       "    <tr style=\"text-align: right;\">\n",
       "      <th></th>\n",
       "      <th>asin</th>\n",
       "      <th>helpful</th>\n",
       "      <th>overall</th>\n",
       "      <th>reviewText</th>\n",
       "      <th>reviewTime</th>\n",
       "      <th>reviewerID</th>\n",
       "      <th>reviewerName</th>\n",
       "      <th>summary</th>\n",
       "      <th>unixReviewTime</th>\n",
       "      <th>helpful_unhelp</th>\n",
       "      <th>helpful_frac</th>\n",
       "      <th>time</th>\n",
       "    </tr>\n",
       "  </thead>\n",
       "  <tbody>\n",
       "    <tr>\n",
       "      <th>0</th>\n",
       "      <td>5555991584</td>\n",
       "      <td>[3, 3]</td>\n",
       "      <td>5</td>\n",
       "      <td>It's hard to believe \"Memory of Trees\" came ou...</td>\n",
       "      <td>09 12, 2006</td>\n",
       "      <td>A3EBHHCZO6V2A4</td>\n",
       "      <td>Amaranth \"music fan\"</td>\n",
       "      <td>Enya's last great album</td>\n",
       "      <td>1158019200</td>\n",
       "      <td>0</td>\n",
       "      <td>1.0</td>\n",
       "      <td>2006-09-12</td>\n",
       "    </tr>\n",
       "    <tr>\n",
       "      <th>1</th>\n",
       "      <td>5555991584</td>\n",
       "      <td>[0, 0]</td>\n",
       "      <td>5</td>\n",
       "      <td>A clasically-styled and introverted album, Mem...</td>\n",
       "      <td>06 3, 2001</td>\n",
       "      <td>AZPWAXJG9OJXV</td>\n",
       "      <td>bethtexas</td>\n",
       "      <td>Enya at her most elegant</td>\n",
       "      <td>991526400</td>\n",
       "      <td>0</td>\n",
       "      <td>0.0</td>\n",
       "      <td>2001-06-03</td>\n",
       "    </tr>\n",
       "    <tr>\n",
       "      <th>2</th>\n",
       "      <td>5555991584</td>\n",
       "      <td>[2, 2]</td>\n",
       "      <td>5</td>\n",
       "      <td>I never thought Enya would reach the sublime h...</td>\n",
       "      <td>07 14, 2003</td>\n",
       "      <td>A38IRL0X2T4DPF</td>\n",
       "      <td>bob turnley</td>\n",
       "      <td>The best so far</td>\n",
       "      <td>1058140800</td>\n",
       "      <td>0</td>\n",
       "      <td>1.0</td>\n",
       "      <td>2003-07-14</td>\n",
       "    </tr>\n",
       "    <tr>\n",
       "      <th>3</th>\n",
       "      <td>5555991584</td>\n",
       "      <td>[1, 1]</td>\n",
       "      <td>5</td>\n",
       "      <td>This is the third review of an irish album I w...</td>\n",
       "      <td>05 3, 2000</td>\n",
       "      <td>A22IK3I6U76GX0</td>\n",
       "      <td>Calle</td>\n",
       "      <td>Ireland produces good music.</td>\n",
       "      <td>957312000</td>\n",
       "      <td>0</td>\n",
       "      <td>1.0</td>\n",
       "      <td>2000-05-03</td>\n",
       "    </tr>\n",
       "    <tr>\n",
       "      <th>4</th>\n",
       "      <td>5555991584</td>\n",
       "      <td>[1, 1]</td>\n",
       "      <td>4</td>\n",
       "      <td>Enya, despite being a successful recording art...</td>\n",
       "      <td>01 17, 2008</td>\n",
       "      <td>A1AISPOIIHTHXX</td>\n",
       "      <td>Cloud \"...\"</td>\n",
       "      <td>4.5; music to dream to</td>\n",
       "      <td>1200528000</td>\n",
       "      <td>0</td>\n",
       "      <td>1.0</td>\n",
       "      <td>2008-01-17</td>\n",
       "    </tr>\n",
       "  </tbody>\n",
       "</table>\n",
       "</div>"
      ],
      "text/plain": [
       "         asin helpful  overall  \\\n",
       "0  5555991584  [3, 3]        5   \n",
       "1  5555991584  [0, 0]        5   \n",
       "2  5555991584  [2, 2]        5   \n",
       "3  5555991584  [1, 1]        5   \n",
       "4  5555991584  [1, 1]        4   \n",
       "\n",
       "                                          reviewText   reviewTime  \\\n",
       "0  It's hard to believe \"Memory of Trees\" came ou...  09 12, 2006   \n",
       "1  A clasically-styled and introverted album, Mem...   06 3, 2001   \n",
       "2  I never thought Enya would reach the sublime h...  07 14, 2003   \n",
       "3  This is the third review of an irish album I w...   05 3, 2000   \n",
       "4  Enya, despite being a successful recording art...  01 17, 2008   \n",
       "\n",
       "       reviewerID          reviewerName                       summary  \\\n",
       "0  A3EBHHCZO6V2A4  Amaranth \"music fan\"       Enya's last great album   \n",
       "1   AZPWAXJG9OJXV             bethtexas      Enya at her most elegant   \n",
       "2  A38IRL0X2T4DPF           bob turnley               The best so far   \n",
       "3  A22IK3I6U76GX0                 Calle  Ireland produces good music.   \n",
       "4  A1AISPOIIHTHXX           Cloud \"...\"        4.5; music to dream to   \n",
       "\n",
       "   unixReviewTime  helpful_unhelp  helpful_frac       time  \n",
       "0      1158019200               0           1.0 2006-09-12  \n",
       "1       991526400               0           0.0 2001-06-03  \n",
       "2      1058140800               0           1.0 2003-07-14  \n",
       "3       957312000               0           1.0 2000-05-03  \n",
       "4      1200528000               0           1.0 2008-01-17  "
      ]
     },
     "execution_count": 10,
     "metadata": {},
     "output_type": "execute_result"
    }
   ],
   "source": [
    "reviews[\"time\"] = novas_datas\n",
    "reviews.head()"
   ]
  },
  {
   "cell_type": "code",
   "execution_count": 11,
   "metadata": {},
   "outputs": [
    {
     "data": {
      "text/html": [
       "<div>\n",
       "<style scoped>\n",
       "    .dataframe tbody tr th:only-of-type {\n",
       "        vertical-align: middle;\n",
       "    }\n",
       "\n",
       "    .dataframe tbody tr th {\n",
       "        vertical-align: top;\n",
       "    }\n",
       "\n",
       "    .dataframe thead th {\n",
       "        text-align: right;\n",
       "    }\n",
       "</style>\n",
       "<table border=\"1\" class=\"dataframe\">\n",
       "  <thead>\n",
       "    <tr style=\"text-align: right;\">\n",
       "      <th></th>\n",
       "      <th>asin</th>\n",
       "      <th>helpful</th>\n",
       "      <th>overall</th>\n",
       "      <th>reviewText</th>\n",
       "      <th>reviewTime</th>\n",
       "      <th>reviewerID</th>\n",
       "      <th>reviewerName</th>\n",
       "      <th>summary</th>\n",
       "      <th>unixReviewTime</th>\n",
       "      <th>helpful_unhelp</th>\n",
       "      <th>helpful_frac</th>\n",
       "      <th>time</th>\n",
       "      <th>year</th>\n",
       "    </tr>\n",
       "  </thead>\n",
       "  <tbody>\n",
       "    <tr>\n",
       "      <th>55041</th>\n",
       "      <td>B000UMQDHC</td>\n",
       "      <td>[0, 1]</td>\n",
       "      <td>4</td>\n",
       "      <td>Raising Sand  is a great collaboration album b...</td>\n",
       "      <td>05 19, 2009</td>\n",
       "      <td>A2TAPL67U2A5HM</td>\n",
       "      <td>Bjorn Viberg</td>\n",
       "      <td>Raising Sand</td>\n",
       "      <td>1242691200</td>\n",
       "      <td>1</td>\n",
       "      <td>0.0</td>\n",
       "      <td>2009-05-19</td>\n",
       "      <td>2009</td>\n",
       "    </tr>\n",
       "    <tr>\n",
       "      <th>39880</th>\n",
       "      <td>B00006LV77</td>\n",
       "      <td>[0, 0]</td>\n",
       "      <td>5</td>\n",
       "      <td>I love this CD.  It's Deborah's best CD of all...</td>\n",
       "      <td>03 24, 2004</td>\n",
       "      <td>A1143SNKOV0ZIT</td>\n",
       "      <td>Eyebrows</td>\n",
       "      <td>Deborah's best!!!</td>\n",
       "      <td>1080086400</td>\n",
       "      <td>0</td>\n",
       "      <td>0.0</td>\n",
       "      <td>2004-03-24</td>\n",
       "      <td>2004</td>\n",
       "    </tr>\n",
       "    <tr>\n",
       "      <th>51056</th>\n",
       "      <td>B000BKSISA</td>\n",
       "      <td>[0, 0]</td>\n",
       "      <td>4</td>\n",
       "      <td>From Smother Magazine - [...]Linkin Park's Mik...</td>\n",
       "      <td>11 27, 2005</td>\n",
       "      <td>A1B06TR6SQRFB6</td>\n",
       "      <td>Jason Shawn \"fistagon7\"</td>\n",
       "      <td>Hip-hop's new fortress</td>\n",
       "      <td>1133049600</td>\n",
       "      <td>0</td>\n",
       "      <td>0.0</td>\n",
       "      <td>2005-11-27</td>\n",
       "      <td>2005</td>\n",
       "    </tr>\n",
       "    <tr>\n",
       "      <th>58472</th>\n",
       "      <td>B002HVLAG8</td>\n",
       "      <td>[1, 1]</td>\n",
       "      <td>4</td>\n",
       "      <td>I am so happy to have this album because I adm...</td>\n",
       "      <td>01 27, 2010</td>\n",
       "      <td>A1RT55WQFWRD6H</td>\n",
       "      <td>Hillary \"avoiding road rage one book at a tim...</td>\n",
       "      <td>Indie Darlings Do GOOD</td>\n",
       "      <td>1264550400</td>\n",
       "      <td>0</td>\n",
       "      <td>1.0</td>\n",
       "      <td>2010-01-27</td>\n",
       "      <td>2010</td>\n",
       "    </tr>\n",
       "    <tr>\n",
       "      <th>42235</th>\n",
       "      <td>B00009LI14</td>\n",
       "      <td>[1, 1]</td>\n",
       "      <td>5</td>\n",
       "      <td>Michelle Branch discovers her new, harder edge...</td>\n",
       "      <td>12 26, 2003</td>\n",
       "      <td>A1YQ6QB2127AJ4</td>\n",
       "      <td>David Anderson</td>\n",
       "      <td>Her Newfound Edge Rocks</td>\n",
       "      <td>1072396800</td>\n",
       "      <td>0</td>\n",
       "      <td>1.0</td>\n",
       "      <td>2003-12-26</td>\n",
       "      <td>2003</td>\n",
       "    </tr>\n",
       "  </tbody>\n",
       "</table>\n",
       "</div>"
      ],
      "text/plain": [
       "             asin helpful  overall  \\\n",
       "55041  B000UMQDHC  [0, 1]        4   \n",
       "39880  B00006LV77  [0, 0]        5   \n",
       "51056  B000BKSISA  [0, 0]        4   \n",
       "58472  B002HVLAG8  [1, 1]        4   \n",
       "42235  B00009LI14  [1, 1]        5   \n",
       "\n",
       "                                              reviewText   reviewTime  \\\n",
       "55041  Raising Sand  is a great collaboration album b...  05 19, 2009   \n",
       "39880  I love this CD.  It's Deborah's best CD of all...  03 24, 2004   \n",
       "51056  From Smother Magazine - [...]Linkin Park's Mik...  11 27, 2005   \n",
       "58472  I am so happy to have this album because I adm...  01 27, 2010   \n",
       "42235  Michelle Branch discovers her new, harder edge...  12 26, 2003   \n",
       "\n",
       "           reviewerID                                      reviewerName  \\\n",
       "55041  A2TAPL67U2A5HM                                      Bjorn Viberg   \n",
       "39880  A1143SNKOV0ZIT                                          Eyebrows   \n",
       "51056  A1B06TR6SQRFB6                           Jason Shawn \"fistagon7\"   \n",
       "58472  A1RT55WQFWRD6H  Hillary \"avoiding road rage one book at a tim...   \n",
       "42235  A1YQ6QB2127AJ4                                    David Anderson   \n",
       "\n",
       "                       summary  unixReviewTime  helpful_unhelp  helpful_frac  \\\n",
       "55041             Raising Sand      1242691200               1           0.0   \n",
       "39880        Deborah's best!!!      1080086400               0           0.0   \n",
       "51056   Hip-hop's new fortress      1133049600               0           0.0   \n",
       "58472   Indie Darlings Do GOOD      1264550400               0           1.0   \n",
       "42235  Her Newfound Edge Rocks      1072396800               0           1.0   \n",
       "\n",
       "            time  year  \n",
       "55041 2009-05-19  2009  \n",
       "39880 2004-03-24  2004  \n",
       "51056 2005-11-27  2005  \n",
       "58472 2010-01-27  2010  \n",
       "42235 2003-12-26  2003  "
      ]
     },
     "execution_count": 11,
     "metadata": {},
     "output_type": "execute_result"
    }
   ],
   "source": [
    "reviews[\"year\"] = reviews.time.dt.year\n",
    "reviews.sample(5)"
   ]
  },
  {
   "cell_type": "code",
   "execution_count": 12,
   "metadata": {},
   "outputs": [],
   "source": [
    "reviews[\"reviewTextFilled\"] = reviews.reviewText.fillna(\"\")"
   ]
  },
  {
   "cell_type": "code",
   "execution_count": 13,
   "metadata": {},
   "outputs": [],
   "source": [
    "def sum_helpful_frac(dataframe_group):\n",
    "    serie_helpful = dataframe_group[\"helpful_frac\"]\n",
    "    return serie_helpful.sum()"
   ]
  },
  {
   "cell_type": "code",
   "execution_count": 14,
   "metadata": {},
   "outputs": [
    {
     "data": {
      "text/plain": [
       "asin\n",
       "5555991584    17.599145\n",
       "B0000000ZW    10.522222\n",
       "B00000016T    35.813808\n",
       "B00000016W    81.536503\n",
       "B00000017R    16.510544\n",
       "dtype: float64"
      ]
     },
     "execution_count": 14,
     "metadata": {},
     "output_type": "execute_result"
    }
   ],
   "source": [
    "result_groupby_apply = reviews.groupby(\"asin\").apply(sum_helpful_frac)\n",
    "result_groupby_apply.head()"
   ]
  },
  {
   "cell_type": "code",
   "execution_count": 15,
   "metadata": {},
   "outputs": [
    {
     "data": {
      "text/plain": [
       "pandas.core.series.Series"
      ]
     },
     "execution_count": 15,
     "metadata": {},
     "output_type": "execute_result"
    }
   ],
   "source": [
    "type(result_groupby_apply)"
   ]
  },
  {
   "cell_type": "code",
   "execution_count": 16,
   "metadata": {},
   "outputs": [
    {
     "data": {
      "text/plain": [
       "0.5714285714285714"
      ]
     },
     "execution_count": 16,
     "metadata": {},
     "output_type": "execute_result"
    }
   ],
   "source": [
    "median = reviews.helpful_frac.median()\n",
    "median"
   ]
  },
  {
   "cell_type": "code",
   "execution_count": 17,
   "metadata": {},
   "outputs": [],
   "source": [
    "def review_classifier(df_group):\n",
    "    if(df_group.helpful_frac.median() > median):\n",
    "        return \"Good Reviews\"\n",
    "    else:\n",
    "        return \"Bad Reviews\""
   ]
  },
  {
   "cell_type": "code",
   "execution_count": 18,
   "metadata": {},
   "outputs": [
    {
     "data": {
      "text/plain": [
       "reviewerID\n",
       "A08161909WK3HU7UYTMW     Bad Reviews\n",
       "A1020L7BWW9RAX           Bad Reviews\n",
       "A10323WWTFPSGP           Bad Reviews\n",
       "A103KNDW8GN92L          Good Reviews\n",
       "A103W7ZPKGOCC9           Bad Reviews\n",
       "dtype: object"
      ]
     },
     "execution_count": 18,
     "metadata": {},
     "output_type": "execute_result"
    }
   ],
   "source": [
    "review_of_reviewer = reviews.groupby(\"reviewerID\").apply(review_classifier)\n",
    "review_of_reviewer.head()\n"
   ]
  },
  {
   "cell_type": "code",
   "execution_count": 19,
   "metadata": {},
   "outputs": [
    {
     "data": {
      "text/plain": [
       "'Bad Reviews'"
      ]
     },
     "execution_count": 19,
     "metadata": {},
     "output_type": "execute_result"
    }
   ],
   "source": [
    "review_of_reviewer[\"A1020L7BWW9RAX\"]"
   ]
  },
  {
   "cell_type": "code",
   "execution_count": 20,
   "metadata": {},
   "outputs": [],
   "source": [
    "# def reviewer_quality(row):\n",
    "#     return review_of_reviewer[row[\"reviewerID\"]]\n",
    "\n",
    "# reviews[\"reviewer_quality\"] = reviews.apply(reviewer_quality)\n",
    "# reviews.head()"
   ]
  },
  {
   "cell_type": "code",
   "execution_count": 21,
   "metadata": {},
   "outputs": [
    {
     "data": {
      "text/plain": [
       "<matplotlib.axes._subplots.AxesSubplot at 0x7fcb7209a5c0>"
      ]
     },
     "execution_count": 21,
     "metadata": {},
     "output_type": "execute_result"
    },
    {
     "data": {
      "image/png": "[encoded data removed]",
      "text/plain": [
       "<Figure size 432x288 with 1 Axes>"
      ]
     },
     "metadata": {
      "needs_background": "light"
     },
     "output_type": "display_data"
    }
   ],
   "source": [
    "%matplotlib inline\n",
    "sns.countplot(review_of_reviewer)"
   ]
  },
  {
   "cell_type": "code",
   "execution_count": 23,
   "metadata": {},
   "outputs": [
    {
     "data": {
      "text/plain": [
       "['a', 'b', 'c', 'd']"
      ]
     },
     "execution_count": 23,
     "metadata": {},
     "output_type": "execute_result"
    }
   ],
   "source": [
    "\"a b c d\".split()"
   ]
  },
  {
   "cell_type": "code",
   "execution_count": 29,
   "metadata": {},
   "outputs": [
    {
     "data": {
      "text/html": [
       "<div>\n",
       "<style scoped>\n",
       "    .dataframe tbody tr th:only-of-type {\n",
       "        vertical-align: middle;\n",
       "    }\n",
       "\n",
       "    .dataframe tbody tr th {\n",
       "        vertical-align: top;\n",
       "    }\n",
       "\n",
       "    .dataframe thead th {\n",
       "        text-align: right;\n",
       "    }\n",
       "</style>\n",
       "<table border=\"1\" class=\"dataframe\">\n",
       "  <thead>\n",
       "    <tr style=\"text-align: right;\">\n",
       "      <th></th>\n",
       "      <th>asin</th>\n",
       "      <th>helpful</th>\n",
       "      <th>overall</th>\n",
       "      <th>reviewText</th>\n",
       "      <th>reviewTime</th>\n",
       "      <th>reviewerID</th>\n",
       "      <th>reviewerName</th>\n",
       "      <th>summary</th>\n",
       "      <th>unixReviewTime</th>\n",
       "      <th>helpful_unhelp</th>\n",
       "      <th>helpful_frac</th>\n",
       "      <th>time</th>\n",
       "      <th>year</th>\n",
       "      <th>reviewTextFilled</th>\n",
       "    </tr>\n",
       "  </thead>\n",
       "  <tbody>\n",
       "    <tr>\n",
       "      <th>16030</th>\n",
       "      <td>B000002KZR</td>\n",
       "      <td>[0, 0]</td>\n",
       "      <td>4</td>\n",
       "      <td>1984 would bring Van Halen to the mainstream. ...</td>\n",
       "      <td>09 5, 2011</td>\n",
       "      <td>A3T9IX8EDFDX4G</td>\n",
       "      <td>John Alapick</td>\n",
       "      <td>A fine sendoff for Diamond Dave (4.5 stars)</td>\n",
       "      <td>1315180800</td>\n",
       "      <td>0</td>\n",
       "      <td>0.0</td>\n",
       "      <td>2011-09-05</td>\n",
       "      <td>2011</td>\n",
       "      <td>1984 would bring Van Halen to the mainstream. ...</td>\n",
       "    </tr>\n",
       "    <tr>\n",
       "      <th>15292</th>\n",
       "      <td>B000002KHB</td>\n",
       "      <td>[0, 0]</td>\n",
       "      <td>5</td>\n",
       "      <td>&amp;quot;Machine head&amp;quot; from 1972 shows Deep ...</td>\n",
       "      <td>02 13, 2003</td>\n",
       "      <td>A1YQHOKBEFHFA5</td>\n",
       "      <td>L. B. Ivarsson</td>\n",
       "      <td>Deep Purple in their prime!</td>\n",
       "      <td>1045094400</td>\n",
       "      <td>0</td>\n",
       "      <td>0.0</td>\n",
       "      <td>2003-02-13</td>\n",
       "      <td>2003</td>\n",
       "      <td>&amp;quot;Machine head&amp;quot; from 1972 shows Deep ...</td>\n",
       "    </tr>\n",
       "  </tbody>\n",
       "</table>\n",
       "</div>"
      ],
      "text/plain": [
       "             asin helpful  overall  \\\n",
       "16030  B000002KZR  [0, 0]        4   \n",
       "15292  B000002KHB  [0, 0]        5   \n",
       "\n",
       "                                              reviewText   reviewTime  \\\n",
       "16030  1984 would bring Van Halen to the mainstream. ...   09 5, 2011   \n",
       "15292  &quot;Machine head&quot; from 1972 shows Deep ...  02 13, 2003   \n",
       "\n",
       "           reviewerID    reviewerName  \\\n",
       "16030  A3T9IX8EDFDX4G    John Alapick   \n",
       "15292  A1YQHOKBEFHFA5  L. B. Ivarsson   \n",
       "\n",
       "                                           summary  unixReviewTime  \\\n",
       "16030  A fine sendoff for Diamond Dave (4.5 stars)      1315180800   \n",
       "15292                  Deep Purple in their prime!      1045094400   \n",
       "\n",
       "       helpful_unhelp  helpful_frac       time  year  \\\n",
       "16030               0           0.0 2011-09-05  2011   \n",
       "15292               0           0.0 2003-02-13  2003   \n",
       "\n",
       "                                        reviewTextFilled  \n",
       "16030  1984 would bring Van Halen to the mainstream. ...  \n",
       "15292  &quot;Machine head&quot; from 1972 shows Deep ...  "
      ]
     },
     "execution_count": 29,
     "metadata": {},
     "output_type": "execute_result"
    }
   ],
   "source": [
    "reviews.sample(2)"
   ]
  },
  {
   "cell_type": "code",
   "execution_count": 44,
   "metadata": {},
   "outputs": [],
   "source": [
    "def concat_string(df_agrupado):\n",
    "    return df_agrupado[\"reviewText\"].str.split().sum()\n",
    "# or\n",
    "def concat_string(df_agrupado):\n",
    "    return df_agrupado[\"reviewText\"].str.cat(sep = \" \").split()"
   ]
  },
  {
   "cell_type": "code",
   "execution_count": 45,
   "metadata": {},
   "outputs": [],
   "source": [
    "agrupado_concatenado = reviews.groupby(\"asin\").apply(concat_string)"
   ]
  },
  {
   "cell_type": "code",
   "execution_count": null,
   "metadata": {},
   "outputs": [],
   "source": []
  }
 ],
 "metadata": {
  "kernelspec": {
   "display_name": "Python 3",
   "language": "python",
   "name": "python3"
  },
  "language_info": {
   "codemirror_mode": {
    "name": "ipython",
    "version": 3
   },
   "file_extension": ".py",
   "mimetype": "text/x-python",
   "name": "python",
   "nbconvert_exporter": "python",
   "pygments_lexer": "ipython3",
   "version": "3.6.5"
  }
 },
 "nbformat": 4,
 "nbformat_minor": 2
}
