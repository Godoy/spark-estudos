{
 "cells": [
  {
   "cell_type": "markdown",
   "metadata": {},
   "source": [
    "# Python"
   ]
  },
  {
   "cell_type": "code",
   "execution_count": 1,
   "metadata": {},
   "outputs": [],
   "source": [
    "dez = 10\n",
    "dez_e_meio = 10.50"
   ]
  },
  {
   "cell_type": "code",
   "execution_count": 2,
   "metadata": {},
   "outputs": [
    {
     "data": {
      "text/plain": [
       "int"
      ]
     },
     "execution_count": 2,
     "metadata": {},
     "output_type": "execute_result"
    }
   ],
   "source": [
    "type(dez)"
   ]
  },
  {
   "cell_type": "code",
   "execution_count": 3,
   "metadata": {},
   "outputs": [
    {
     "data": {
      "text/plain": [
       "float"
      ]
     },
     "execution_count": 3,
     "metadata": {},
     "output_type": "execute_result"
    }
   ],
   "source": [
    "type(dez_e_meio)"
   ]
  },
  {
   "cell_type": "code",
   "execution_count": 4,
   "metadata": {},
   "outputs": [],
   "source": [
    "numbers = [2,3,5,8,13]"
   ]
  },
  {
   "cell_type": "code",
   "execution_count": 5,
   "metadata": {},
   "outputs": [
    {
     "name": "stdout",
     "output_type": "stream",
     "text": [
      "- 8\n",
      "- 13\n"
     ]
    }
   ],
   "source": [
    "for number in numbers:\n",
    "    if number > 7: \n",
    "        print(f\"- {number}\") "
   ]
  },
  {
   "cell_type": "code",
   "execution_count": 6,
   "metadata": {},
   "outputs": [],
   "source": [
    "def maior_que_7(num):\n",
    "    return num > 7"
   ]
  },
  {
   "cell_type": "code",
   "execution_count": 7,
   "metadata": {},
   "outputs": [
    {
     "name": "stdout",
     "output_type": "stream",
     "text": [
      "8\n",
      "13\n"
     ]
    }
   ],
   "source": [
    "for number in numbers: \n",
    "    if maior_que_7(number): \n",
    "        print(number)\n",
    "    "
   ]
  },
  {
   "cell_type": "markdown",
   "metadata": {},
   "source": [
    "# Pandas"
   ]
  },
  {
   "cell_type": "code",
   "execution_count": 188,
   "metadata": {},
   "outputs": [],
   "source": [
    "import pandas\n",
    "reviews = pandas.read_json(\"amazon-music-reviews.json\", lines = True)"
   ]
  },
  {
   "cell_type": "code",
   "execution_count": 9,
   "metadata": {},
   "outputs": [
    {
     "data": {
      "text/plain": [
       "pandas.core.frame.DataFrame"
      ]
     },
     "execution_count": 9,
     "metadata": {},
     "output_type": "execute_result"
    }
   ],
   "source": [
    "type(reviews)"
   ]
  },
  {
   "cell_type": "code",
   "execution_count": 189,
   "metadata": {
    "scrolled": false
   },
   "outputs": [
    {
     "data": {
      "text/html": [
       "<div>\n",
       "<style scoped>\n",
       "    .dataframe tbody tr th:only-of-type {\n",
       "        vertical-align: middle;\n",
       "    }\n",
       "\n",
       "    .dataframe tbody tr th {\n",
       "        vertical-align: top;\n",
       "    }\n",
       "\n",
       "    .dataframe thead th {\n",
       "        text-align: right;\n",
       "    }\n",
       "</style>\n",
       "<table border=\"1\" class=\"dataframe\">\n",
       "  <thead>\n",
       "    <tr style=\"text-align: right;\">\n",
       "      <th></th>\n",
       "      <th>asin</th>\n",
       "      <th>helpful</th>\n",
       "      <th>overall</th>\n",
       "      <th>reviewText</th>\n",
       "      <th>reviewTime</th>\n",
       "      <th>reviewerID</th>\n",
       "      <th>reviewerName</th>\n",
       "      <th>summary</th>\n",
       "      <th>unixReviewTime</th>\n",
       "    </tr>\n",
       "  </thead>\n",
       "  <tbody>\n",
       "    <tr>\n",
       "      <th>9842</th>\n",
       "      <td>B0000028XW</td>\n",
       "      <td>[10, 11]</td>\n",
       "      <td>4</td>\n",
       "      <td>I'm sure you've had the experience of finding ...</td>\n",
       "      <td>09 13, 2003</td>\n",
       "      <td>A1M4NJYP0WNL8Q</td>\n",
       "      <td>Marc Ruby&amp;#8482; \"The Noh Hare&amp;#8482;\"</td>\n",
       "      <td>Heavy on Production</td>\n",
       "      <td>1063411200</td>\n",
       "    </tr>\n",
       "    <tr>\n",
       "      <th>3032</th>\n",
       "      <td>B000001A6N</td>\n",
       "      <td>[1, 1]</td>\n",
       "      <td>5</td>\n",
       "      <td>Once in a very long while, an artist comes out...</td>\n",
       "      <td>03 13, 2012</td>\n",
       "      <td>A2R6RA8FRBS608</td>\n",
       "      <td>Matthew G. Sherwin</td>\n",
       "      <td>an exceptional album</td>\n",
       "      <td>1331596800</td>\n",
       "    </tr>\n",
       "    <tr>\n",
       "      <th>6051</th>\n",
       "      <td>B000001Y15</td>\n",
       "      <td>[0, 0]</td>\n",
       "      <td>5</td>\n",
       "      <td>Yeah all I heard from the critics was this was...</td>\n",
       "      <td>03 20, 2005</td>\n",
       "      <td>A32EDSKLEUZ3Y7</td>\n",
       "      <td>Chris</td>\n",
       "      <td>Great album</td>\n",
       "      <td>1111276800</td>\n",
       "    </tr>\n",
       "    <tr>\n",
       "      <th>61244</th>\n",
       "      <td>B005MVR6CM</td>\n",
       "      <td>[14, 16]</td>\n",
       "      <td>5</td>\n",
       "      <td>\"Logos\" set my aural world on fire when it cam...</td>\n",
       "      <td>11 8, 2011</td>\n",
       "      <td>A17M1HL6U2GS7M</td>\n",
       "      <td>Storylover</td>\n",
       "      <td>Velvet peppermint fever dream pop...</td>\n",
       "      <td>1320710400</td>\n",
       "    </tr>\n",
       "  </tbody>\n",
       "</table>\n",
       "</div>"
      ],
      "text/plain": [
       "             asin   helpful  overall  \\\n",
       "9842   B0000028XW  [10, 11]        4   \n",
       "3032   B000001A6N    [1, 1]        5   \n",
       "6051   B000001Y15    [0, 0]        5   \n",
       "61244  B005MVR6CM  [14, 16]        5   \n",
       "\n",
       "                                              reviewText   reviewTime  \\\n",
       "9842   I'm sure you've had the experience of finding ...  09 13, 2003   \n",
       "3032   Once in a very long while, an artist comes out...  03 13, 2012   \n",
       "6051   Yeah all I heard from the critics was this was...  03 20, 2005   \n",
       "61244  \"Logos\" set my aural world on fire when it cam...   11 8, 2011   \n",
       "\n",
       "           reviewerID                            reviewerName  \\\n",
       "9842   A1M4NJYP0WNL8Q  Marc Ruby&#8482; \"The Noh Hare&#8482;\"   \n",
       "3032   A2R6RA8FRBS608                      Matthew G. Sherwin   \n",
       "6051   A32EDSKLEUZ3Y7                                   Chris   \n",
       "61244  A17M1HL6U2GS7M                              Storylover   \n",
       "\n",
       "                                    summary  unixReviewTime  \n",
       "9842                    Heavy on Production      1063411200  \n",
       "3032                   an exceptional album      1331596800  \n",
       "6051                            Great album      1111276800  \n",
       "61244  Velvet peppermint fever dream pop...      1320710400  "
      ]
     },
     "execution_count": 189,
     "metadata": {},
     "output_type": "execute_result"
    }
   ],
   "source": [
    "reviews.sample(4)"
   ]
  },
  {
   "cell_type": "code",
   "execution_count": 11,
   "metadata": {},
   "outputs": [
    {
     "data": {
      "text/html": [
       "<div>\n",
       "<style scoped>\n",
       "    .dataframe tbody tr th:only-of-type {\n",
       "        vertical-align: middle;\n",
       "    }\n",
       "\n",
       "    .dataframe tbody tr th {\n",
       "        vertical-align: top;\n",
       "    }\n",
       "\n",
       "    .dataframe thead th {\n",
       "        text-align: right;\n",
       "    }\n",
       "</style>\n",
       "<table border=\"1\" class=\"dataframe\">\n",
       "  <thead>\n",
       "    <tr style=\"text-align: right;\">\n",
       "      <th></th>\n",
       "      <th>asin</th>\n",
       "      <th>helpful</th>\n",
       "      <th>overall</th>\n",
       "      <th>reviewText</th>\n",
       "      <th>reviewTime</th>\n",
       "      <th>reviewerID</th>\n",
       "      <th>reviewerName</th>\n",
       "      <th>summary</th>\n",
       "      <th>unixReviewTime</th>\n",
       "    </tr>\n",
       "  </thead>\n",
       "  <tbody>\n",
       "    <tr>\n",
       "      <th>0</th>\n",
       "      <td>5555991584</td>\n",
       "      <td>[3, 3]</td>\n",
       "      <td>5</td>\n",
       "      <td>It's hard to believe \"Memory of Trees\" came ou...</td>\n",
       "      <td>09 12, 2006</td>\n",
       "      <td>A3EBHHCZO6V2A4</td>\n",
       "      <td>Amaranth \"music fan\"</td>\n",
       "      <td>Enya's last great album</td>\n",
       "      <td>1158019200</td>\n",
       "    </tr>\n",
       "    <tr>\n",
       "      <th>1</th>\n",
       "      <td>5555991584</td>\n",
       "      <td>[0, 0]</td>\n",
       "      <td>5</td>\n",
       "      <td>A clasically-styled and introverted album, Mem...</td>\n",
       "      <td>06 3, 2001</td>\n",
       "      <td>AZPWAXJG9OJXV</td>\n",
       "      <td>bethtexas</td>\n",
       "      <td>Enya at her most elegant</td>\n",
       "      <td>991526400</td>\n",
       "    </tr>\n",
       "    <tr>\n",
       "      <th>2</th>\n",
       "      <td>5555991584</td>\n",
       "      <td>[2, 2]</td>\n",
       "      <td>5</td>\n",
       "      <td>I never thought Enya would reach the sublime h...</td>\n",
       "      <td>07 14, 2003</td>\n",
       "      <td>A38IRL0X2T4DPF</td>\n",
       "      <td>bob turnley</td>\n",
       "      <td>The best so far</td>\n",
       "      <td>1058140800</td>\n",
       "    </tr>\n",
       "    <tr>\n",
       "      <th>3</th>\n",
       "      <td>5555991584</td>\n",
       "      <td>[1, 1]</td>\n",
       "      <td>5</td>\n",
       "      <td>This is the third review of an irish album I w...</td>\n",
       "      <td>05 3, 2000</td>\n",
       "      <td>A22IK3I6U76GX0</td>\n",
       "      <td>Calle</td>\n",
       "      <td>Ireland produces good music.</td>\n",
       "      <td>957312000</td>\n",
       "    </tr>\n",
       "    <tr>\n",
       "      <th>4</th>\n",
       "      <td>5555991584</td>\n",
       "      <td>[1, 1]</td>\n",
       "      <td>4</td>\n",
       "      <td>Enya, despite being a successful recording art...</td>\n",
       "      <td>01 17, 2008</td>\n",
       "      <td>A1AISPOIIHTHXX</td>\n",
       "      <td>Cloud \"...\"</td>\n",
       "      <td>4.5; music to dream to</td>\n",
       "      <td>1200528000</td>\n",
       "    </tr>\n",
       "  </tbody>\n",
       "</table>\n",
       "</div>"
      ],
      "text/plain": [
       "         asin helpful  overall  \\\n",
       "0  5555991584  [3, 3]        5   \n",
       "1  5555991584  [0, 0]        5   \n",
       "2  5555991584  [2, 2]        5   \n",
       "3  5555991584  [1, 1]        5   \n",
       "4  5555991584  [1, 1]        4   \n",
       "\n",
       "                                          reviewText   reviewTime  \\\n",
       "0  It's hard to believe \"Memory of Trees\" came ou...  09 12, 2006   \n",
       "1  A clasically-styled and introverted album, Mem...   06 3, 2001   \n",
       "2  I never thought Enya would reach the sublime h...  07 14, 2003   \n",
       "3  This is the third review of an irish album I w...   05 3, 2000   \n",
       "4  Enya, despite being a successful recording art...  01 17, 2008   \n",
       "\n",
       "       reviewerID          reviewerName                       summary  \\\n",
       "0  A3EBHHCZO6V2A4  Amaranth \"music fan\"       Enya's last great album   \n",
       "1   AZPWAXJG9OJXV             bethtexas      Enya at her most elegant   \n",
       "2  A38IRL0X2T4DPF           bob turnley               The best so far   \n",
       "3  A22IK3I6U76GX0                 Calle  Ireland produces good music.   \n",
       "4  A1AISPOIIHTHXX           Cloud \"...\"        4.5; music to dream to   \n",
       "\n",
       "   unixReviewTime  \n",
       "0      1158019200  \n",
       "1       991526400  \n",
       "2      1058140800  \n",
       "3       957312000  \n",
       "4      1200528000  "
      ]
     },
     "execution_count": 11,
     "metadata": {},
     "output_type": "execute_result"
    }
   ],
   "source": [
    "reviews.head()"
   ]
  },
  {
   "cell_type": "code",
   "execution_count": 12,
   "metadata": {},
   "outputs": [
    {
     "data": {
      "text/plain": [
       "57807    5\n",
       "9195     5\n",
       "Name: overall, dtype: int64"
      ]
     },
     "execution_count": 12,
     "metadata": {},
     "output_type": "execute_result"
    }
   ],
   "source": [
    "reviews.overall.sample(2)"
   ]
  },
  {
   "cell_type": "code",
   "execution_count": 13,
   "metadata": {},
   "outputs": [
    {
     "data": {
      "text/plain": [
       "pandas.core.series.Series"
      ]
     },
     "execution_count": 13,
     "metadata": {},
     "output_type": "execute_result"
    }
   ],
   "source": [
    "type(reviews.overall)"
   ]
  },
  {
   "cell_type": "code",
   "execution_count": 14,
   "metadata": {},
   "outputs": [],
   "source": [
    "cols = ['asin', 'helpful', 'overall']"
   ]
  },
  {
   "cell_type": "code",
   "execution_count": 15,
   "metadata": {},
   "outputs": [
    {
     "data": {
      "text/html": [
       "<div>\n",
       "<style scoped>\n",
       "    .dataframe tbody tr th:only-of-type {\n",
       "        vertical-align: middle;\n",
       "    }\n",
       "\n",
       "    .dataframe tbody tr th {\n",
       "        vertical-align: top;\n",
       "    }\n",
       "\n",
       "    .dataframe thead th {\n",
       "        text-align: right;\n",
       "    }\n",
       "</style>\n",
       "<table border=\"1\" class=\"dataframe\">\n",
       "  <thead>\n",
       "    <tr style=\"text-align: right;\">\n",
       "      <th></th>\n",
       "      <th>asin</th>\n",
       "      <th>helpful</th>\n",
       "      <th>overall</th>\n",
       "    </tr>\n",
       "  </thead>\n",
       "  <tbody>\n",
       "    <tr>\n",
       "      <th>34464</th>\n",
       "      <td>B000059MEK</td>\n",
       "      <td>[0, 0]</td>\n",
       "      <td>4</td>\n",
       "    </tr>\n",
       "    <tr>\n",
       "      <th>11417</th>\n",
       "      <td>B000002G77</td>\n",
       "      <td>[4, 9]</td>\n",
       "      <td>5</td>\n",
       "    </tr>\n",
       "    <tr>\n",
       "      <th>62295</th>\n",
       "      <td>B0081PHZ4K</td>\n",
       "      <td>[0, 0]</td>\n",
       "      <td>5</td>\n",
       "    </tr>\n",
       "  </tbody>\n",
       "</table>\n",
       "</div>"
      ],
      "text/plain": [
       "             asin helpful  overall\n",
       "34464  B000059MEK  [0, 0]        4\n",
       "11417  B000002G77  [4, 9]        5\n",
       "62295  B0081PHZ4K  [0, 0]        5"
      ]
     },
     "execution_count": 15,
     "metadata": {},
     "output_type": "execute_result"
    }
   ],
   "source": [
    "reviews[cols].sample(3)"
   ]
  },
  {
   "cell_type": "code",
   "execution_count": 16,
   "metadata": {},
   "outputs": [],
   "source": [
    "shape = reviews.shape"
   ]
  },
  {
   "cell_type": "code",
   "execution_count": 17,
   "metadata": {},
   "outputs": [
    {
     "data": {
      "text/plain": [
       "64706"
      ]
     },
     "execution_count": 17,
     "metadata": {},
     "output_type": "execute_result"
    }
   ],
   "source": [
    "len(reviews)"
   ]
  },
  {
   "cell_type": "code",
   "execution_count": 18,
   "metadata": {},
   "outputs": [],
   "source": [
    "lines, cols = shape"
   ]
  },
  {
   "cell_type": "code",
   "execution_count": 19,
   "metadata": {},
   "outputs": [
    {
     "data": {
      "text/plain": [
       "64706"
      ]
     },
     "execution_count": 19,
     "metadata": {},
     "output_type": "execute_result"
    }
   ],
   "source": [
    "lines\n"
   ]
  },
  {
   "cell_type": "code",
   "execution_count": 20,
   "metadata": {},
   "outputs": [
    {
     "data": {
      "text/plain": [
       "9"
      ]
     },
     "execution_count": 20,
     "metadata": {},
     "output_type": "execute_result"
    }
   ],
   "source": [
    "cols"
   ]
  },
  {
   "cell_type": "code",
   "execution_count": 21,
   "metadata": {},
   "outputs": [
    {
     "data": {
      "text/plain": [
       "Index(['asin', 'helpful', 'overall', 'reviewText', 'reviewTime', 'reviewerID',\n",
       "       'reviewerName', 'summary', 'unixReviewTime'],\n",
       "      dtype='object')"
      ]
     },
     "execution_count": 21,
     "metadata": {},
     "output_type": "execute_result"
    }
   ],
   "source": [
    "reviews.columns"
   ]
  },
  {
   "cell_type": "code",
   "execution_count": 22,
   "metadata": {},
   "outputs": [
    {
     "data": {
      "text/plain": [
       "asin              object\n",
       "helpful           object\n",
       "overall            int64\n",
       "reviewText        object\n",
       "reviewTime        object\n",
       "reviewerID        object\n",
       "reviewerName      object\n",
       "summary           object\n",
       "unixReviewTime     int64\n",
       "dtype: object"
      ]
     },
     "execution_count": 22,
     "metadata": {},
     "output_type": "execute_result"
    }
   ],
   "source": [
    "reviews.dtypes"
   ]
  },
  {
   "cell_type": "code",
   "execution_count": 23,
   "metadata": {},
   "outputs": [
    {
     "name": "stdout",
     "output_type": "stream",
     "text": [
      "<class 'pandas.core.frame.DataFrame'>\n",
      "RangeIndex: 64706 entries, 0 to 64705\n",
      "Data columns (total 9 columns):\n",
      "asin              64706 non-null object\n",
      "helpful           64706 non-null object\n",
      "overall           64706 non-null int64\n",
      "reviewText        64706 non-null object\n",
      "reviewTime        64706 non-null object\n",
      "reviewerID        64706 non-null object\n",
      "reviewerName      64529 non-null object\n",
      "summary           64706 non-null object\n",
      "unixReviewTime    64706 non-null int64\n",
      "dtypes: int64(2), object(7)\n",
      "memory usage: 4.4+ MB\n"
     ]
    }
   ],
   "source": [
    "reviews.info()"
   ]
  },
  {
   "cell_type": "code",
   "execution_count": 24,
   "metadata": {},
   "outputs": [
    {
     "data": {
      "text/html": [
       "<div>\n",
       "<style scoped>\n",
       "    .dataframe tbody tr th:only-of-type {\n",
       "        vertical-align: middle;\n",
       "    }\n",
       "\n",
       "    .dataframe tbody tr th {\n",
       "        vertical-align: top;\n",
       "    }\n",
       "\n",
       "    .dataframe thead th {\n",
       "        text-align: right;\n",
       "    }\n",
       "</style>\n",
       "<table border=\"1\" class=\"dataframe\">\n",
       "  <thead>\n",
       "    <tr style=\"text-align: right;\">\n",
       "      <th></th>\n",
       "      <th>asin</th>\n",
       "      <th>overall</th>\n",
       "      <th>reviewText</th>\n",
       "      <th>reviewTime</th>\n",
       "      <th>reviewerID</th>\n",
       "      <th>reviewerName</th>\n",
       "      <th>summary</th>\n",
       "      <th>unixReviewTime</th>\n",
       "    </tr>\n",
       "  </thead>\n",
       "  <tbody>\n",
       "    <tr>\n",
       "      <th>count</th>\n",
       "      <td>64706</td>\n",
       "      <td>64706.000000</td>\n",
       "      <td>64706</td>\n",
       "      <td>64706</td>\n",
       "      <td>64706</td>\n",
       "      <td>64529</td>\n",
       "      <td>64706</td>\n",
       "      <td>6.470600e+04</td>\n",
       "    </tr>\n",
       "    <tr>\n",
       "      <th>unique</th>\n",
       "      <td>3568</td>\n",
       "      <td>NaN</td>\n",
       "      <td>64701</td>\n",
       "      <td>5611</td>\n",
       "      <td>5541</td>\n",
       "      <td>5426</td>\n",
       "      <td>59841</td>\n",
       "      <td>NaN</td>\n",
       "    </tr>\n",
       "    <tr>\n",
       "      <th>top</th>\n",
       "      <td>B0007NFL18</td>\n",
       "      <td>NaN</td>\n",
       "      <td>It's hard to know what to make of Eminem, even...</td>\n",
       "      <td>03 4, 2005</td>\n",
       "      <td>A9Q28YTLYREO7</td>\n",
       "      <td>mistermaxxx08 \"mistermaxxx08\"</td>\n",
       "      <td>Classic</td>\n",
       "      <td>NaN</td>\n",
       "    </tr>\n",
       "    <tr>\n",
       "      <th>freq</th>\n",
       "      <td>272</td>\n",
       "      <td>NaN</td>\n",
       "      <td>3</td>\n",
       "      <td>61</td>\n",
       "      <td>578</td>\n",
       "      <td>575</td>\n",
       "      <td>120</td>\n",
       "      <td>NaN</td>\n",
       "    </tr>\n",
       "    <tr>\n",
       "      <th>mean</th>\n",
       "      <td>NaN</td>\n",
       "      <td>4.222514</td>\n",
       "      <td>NaN</td>\n",
       "      <td>NaN</td>\n",
       "      <td>NaN</td>\n",
       "      <td>NaN</td>\n",
       "      <td>NaN</td>\n",
       "      <td>1.151117e+09</td>\n",
       "    </tr>\n",
       "    <tr>\n",
       "      <th>std</th>\n",
       "      <td>NaN</td>\n",
       "      <td>1.086081</td>\n",
       "      <td>NaN</td>\n",
       "      <td>NaN</td>\n",
       "      <td>NaN</td>\n",
       "      <td>NaN</td>\n",
       "      <td>NaN</td>\n",
       "      <td>1.279250e+08</td>\n",
       "    </tr>\n",
       "    <tr>\n",
       "      <th>min</th>\n",
       "      <td>NaN</td>\n",
       "      <td>1.000000</td>\n",
       "      <td>NaN</td>\n",
       "      <td>NaN</td>\n",
       "      <td>NaN</td>\n",
       "      <td>NaN</td>\n",
       "      <td>NaN</td>\n",
       "      <td>8.937216e+08</td>\n",
       "    </tr>\n",
       "    <tr>\n",
       "      <th>25%</th>\n",
       "      <td>NaN</td>\n",
       "      <td>4.000000</td>\n",
       "      <td>NaN</td>\n",
       "      <td>NaN</td>\n",
       "      <td>NaN</td>\n",
       "      <td>NaN</td>\n",
       "      <td>NaN</td>\n",
       "      <td>1.056931e+09</td>\n",
       "    </tr>\n",
       "    <tr>\n",
       "      <th>50%</th>\n",
       "      <td>NaN</td>\n",
       "      <td>5.000000</td>\n",
       "      <td>NaN</td>\n",
       "      <td>NaN</td>\n",
       "      <td>NaN</td>\n",
       "      <td>NaN</td>\n",
       "      <td>NaN</td>\n",
       "      <td>1.128989e+09</td>\n",
       "    </tr>\n",
       "    <tr>\n",
       "      <th>75%</th>\n",
       "      <td>NaN</td>\n",
       "      <td>5.000000</td>\n",
       "      <td>NaN</td>\n",
       "      <td>NaN</td>\n",
       "      <td>NaN</td>\n",
       "      <td>NaN</td>\n",
       "      <td>NaN</td>\n",
       "      <td>1.245024e+09</td>\n",
       "    </tr>\n",
       "    <tr>\n",
       "      <th>max</th>\n",
       "      <td>NaN</td>\n",
       "      <td>5.000000</td>\n",
       "      <td>NaN</td>\n",
       "      <td>NaN</td>\n",
       "      <td>NaN</td>\n",
       "      <td>NaN</td>\n",
       "      <td>NaN</td>\n",
       "      <td>1.406074e+09</td>\n",
       "    </tr>\n",
       "  </tbody>\n",
       "</table>\n",
       "</div>"
      ],
      "text/plain": [
       "              asin       overall  \\\n",
       "count        64706  64706.000000   \n",
       "unique        3568           NaN   \n",
       "top     B0007NFL18           NaN   \n",
       "freq           272           NaN   \n",
       "mean           NaN      4.222514   \n",
       "std            NaN      1.086081   \n",
       "min            NaN      1.000000   \n",
       "25%            NaN      4.000000   \n",
       "50%            NaN      5.000000   \n",
       "75%            NaN      5.000000   \n",
       "max            NaN      5.000000   \n",
       "\n",
       "                                               reviewText  reviewTime  \\\n",
       "count                                               64706       64706   \n",
       "unique                                              64701        5611   \n",
       "top     It's hard to know what to make of Eminem, even...  03 4, 2005   \n",
       "freq                                                    3          61   \n",
       "mean                                                  NaN         NaN   \n",
       "std                                                   NaN         NaN   \n",
       "min                                                   NaN         NaN   \n",
       "25%                                                   NaN         NaN   \n",
       "50%                                                   NaN         NaN   \n",
       "75%                                                   NaN         NaN   \n",
       "max                                                   NaN         NaN   \n",
       "\n",
       "           reviewerID                   reviewerName  summary  unixReviewTime  \n",
       "count           64706                          64529    64706    6.470600e+04  \n",
       "unique           5541                           5426    59841             NaN  \n",
       "top     A9Q28YTLYREO7  mistermaxxx08 \"mistermaxxx08\"  Classic             NaN  \n",
       "freq              578                            575      120             NaN  \n",
       "mean              NaN                            NaN      NaN    1.151117e+09  \n",
       "std               NaN                            NaN      NaN    1.279250e+08  \n",
       "min               NaN                            NaN      NaN    8.937216e+08  \n",
       "25%               NaN                            NaN      NaN    1.056931e+09  \n",
       "50%               NaN                            NaN      NaN    1.128989e+09  \n",
       "75%               NaN                            NaN      NaN    1.245024e+09  \n",
       "max               NaN                            NaN      NaN    1.406074e+09  "
      ]
     },
     "execution_count": 24,
     "metadata": {},
     "output_type": "execute_result"
    }
   ],
   "source": [
    "reviews[reviews.columns.drop('helpful')].describe(include='all')"
   ]
  },
  {
   "cell_type": "code",
   "execution_count": 25,
   "metadata": {},
   "outputs": [
    {
     "data": {
      "text/plain": [
       "4.22251414088338"
      ]
     },
     "execution_count": 25,
     "metadata": {},
     "output_type": "execute_result"
    }
   ],
   "source": [
    "\n",
    "reviews.overall.mean()"
   ]
  },
  {
   "cell_type": "code",
   "execution_count": 26,
   "metadata": {},
   "outputs": [
    {
     "data": {
      "text/plain": [
       "1.0860812782998102"
      ]
     },
     "execution_count": 26,
     "metadata": {},
     "output_type": "execute_result"
    }
   ],
   "source": [
    "reviews.overall.std()"
   ]
  },
  {
   "cell_type": "code",
   "execution_count": 27,
   "metadata": {},
   "outputs": [
    {
     "name": "stdout",
     "output_type": "stream",
     "text": [
      "quartil 25% 4.0\n"
     ]
    }
   ],
   "source": [
    "print(\"quartil 25%\", reviews.overall.quantile(0.25))"
   ]
  },
  {
   "cell_type": "markdown",
   "metadata": {},
   "source": [
    "conta não nulos:"
   ]
  },
  {
   "cell_type": "code",
   "execution_count": 28,
   "metadata": {},
   "outputs": [
    {
     "data": {
      "text/plain": [
       "asin              64706\n",
       "helpful           64706\n",
       "overall           64706\n",
       "reviewText        64706\n",
       "reviewTime        64706\n",
       "reviewerID        64706\n",
       "reviewerName      64529\n",
       "summary           64706\n",
       "unixReviewTime    64706\n",
       "dtype: int64"
      ]
     },
     "execution_count": 28,
     "metadata": {},
     "output_type": "execute_result"
    }
   ],
   "source": [
    "reviews.count()"
   ]
  },
  {
   "cell_type": "code",
   "execution_count": 29,
   "metadata": {},
   "outputs": [
    {
     "data": {
      "text/plain": [
       "asin                0\n",
       "helpful             0\n",
       "overall             0\n",
       "reviewText          0\n",
       "reviewTime          0\n",
       "reviewerID          0\n",
       "reviewerName      177\n",
       "summary             0\n",
       "unixReviewTime      0\n",
       "dtype: int64"
      ]
     },
     "execution_count": 29,
     "metadata": {},
     "output_type": "execute_result"
    }
   ],
   "source": [
    "reviews.isnull().sum()"
   ]
  },
  {
   "cell_type": "code",
   "execution_count": 30,
   "metadata": {},
   "outputs": [
    {
     "data": {
      "text/plain": [
       "64706"
      ]
     },
     "execution_count": 30,
     "metadata": {},
     "output_type": "execute_result"
    }
   ],
   "source": [
    "reviews.reviewerName.size"
   ]
  },
  {
   "cell_type": "code",
   "execution_count": 31,
   "metadata": {},
   "outputs": [
    {
     "data": {
      "text/html": [
       "<div>\n",
       "<style scoped>\n",
       "    .dataframe tbody tr th:only-of-type {\n",
       "        vertical-align: middle;\n",
       "    }\n",
       "\n",
       "    .dataframe tbody tr th {\n",
       "        vertical-align: top;\n",
       "    }\n",
       "\n",
       "    .dataframe thead th {\n",
       "        text-align: right;\n",
       "    }\n",
       "</style>\n",
       "<table border=\"1\" class=\"dataframe\">\n",
       "  <thead>\n",
       "    <tr style=\"text-align: right;\">\n",
       "      <th></th>\n",
       "      <th>overall</th>\n",
       "      <th>unixReviewTime</th>\n",
       "    </tr>\n",
       "    <tr>\n",
       "      <th>reviewerName</th>\n",
       "      <th></th>\n",
       "      <th></th>\n",
       "    </tr>\n",
       "  </thead>\n",
       "  <tbody>\n",
       "    <tr>\n",
       "      <th>TM</th>\n",
       "      <td>5.000000</td>\n",
       "      <td>1.119571e+09</td>\n",
       "    </tr>\n",
       "    <tr>\n",
       "      <th>! MR. KNOW IT ALL  ;-b \"DR SHOCK\"</th>\n",
       "      <td>4.333333</td>\n",
       "      <td>1.218384e+09</td>\n",
       "    </tr>\n",
       "    <tr>\n",
       "      <th>! Metamorpho ;) \"Reflective and Wiser Seer\"</th>\n",
       "      <td>4.964286</td>\n",
       "      <td>1.189253e+09</td>\n",
       "    </tr>\n",
       "    <tr>\n",
       "      <th>!hype 2007 \"!hype\"</th>\n",
       "      <td>4.800000</td>\n",
       "      <td>1.261630e+09</td>\n",
       "    </tr>\n",
       "    <tr>\n",
       "      <th>\"-_mystikal_-\"</th>\n",
       "      <td>4.333333</td>\n",
       "      <td>9.639792e+08</td>\n",
       "    </tr>\n",
       "    <tr>\n",
       "      <th>\"Johnny Salzone\"</th>\n",
       "      <td>3.000000</td>\n",
       "      <td>1.123874e+09</td>\n",
       "    </tr>\n",
       "    <tr>\n",
       "      <th>\"The Woj\"</th>\n",
       "      <td>4.142857</td>\n",
       "      <td>1.084801e+09</td>\n",
       "    </tr>\n",
       "    <tr>\n",
       "      <th>\"aaaaaaambition\"</th>\n",
       "      <td>3.600000</td>\n",
       "      <td>1.056482e+09</td>\n",
       "    </tr>\n",
       "    <tr>\n",
       "      <th>\"allseasonscafe\"</th>\n",
       "      <td>4.625000</td>\n",
       "      <td>1.052298e+09</td>\n",
       "    </tr>\n",
       "    <tr>\n",
       "      <th>\"american_psyco12\"</th>\n",
       "      <td>4.692308</td>\n",
       "      <td>1.029655e+09</td>\n",
       "    </tr>\n",
       "  </tbody>\n",
       "</table>\n",
       "</div>"
      ],
      "text/plain": [
       "                                              overall  unixReviewTime\n",
       "reviewerName                                                         \n",
       " TM                                          5.000000    1.119571e+09\n",
       "! MR. KNOW IT ALL  ;-b \"DR SHOCK\"            4.333333    1.218384e+09\n",
       "! Metamorpho ;) \"Reflective and Wiser Seer\"  4.964286    1.189253e+09\n",
       "!hype 2007 \"!hype\"                           4.800000    1.261630e+09\n",
       "\"-_mystikal_-\"                               4.333333    9.639792e+08\n",
       "\"Johnny Salzone\"                             3.000000    1.123874e+09\n",
       "\"The Woj\"                                    4.142857    1.084801e+09\n",
       "\"aaaaaaambition\"                             3.600000    1.056482e+09\n",
       "\"allseasonscafe\"                             4.625000    1.052298e+09\n",
       "\"american_psyco12\"                           4.692308    1.029655e+09"
      ]
     },
     "execution_count": 31,
     "metadata": {},
     "output_type": "execute_result"
    }
   ],
   "source": [
    "reviews.groupby(\"reviewerName\").mean().head(10)"
   ]
  },
  {
   "cell_type": "code",
   "execution_count": 32,
   "metadata": {},
   "outputs": [
    {
     "data": {
      "text/html": [
       "<div>\n",
       "<style scoped>\n",
       "    .dataframe tbody tr th:only-of-type {\n",
       "        vertical-align: middle;\n",
       "    }\n",
       "\n",
       "    .dataframe tbody tr th {\n",
       "        vertical-align: top;\n",
       "    }\n",
       "\n",
       "    .dataframe thead th {\n",
       "        text-align: right;\n",
       "    }\n",
       "</style>\n",
       "<table border=\"1\" class=\"dataframe\">\n",
       "  <thead>\n",
       "    <tr style=\"text-align: right;\">\n",
       "      <th></th>\n",
       "      <th>overall</th>\n",
       "      <th>unixReviewTime</th>\n",
       "    </tr>\n",
       "    <tr>\n",
       "      <th>reviewerName</th>\n",
       "      <th></th>\n",
       "      <th></th>\n",
       "    </tr>\n",
       "  </thead>\n",
       "  <tbody>\n",
       "    <tr>\n",
       "      <th>TM</th>\n",
       "      <td>35</td>\n",
       "      <td>7836998400</td>\n",
       "    </tr>\n",
       "    <tr>\n",
       "      <th>! MR. KNOW IT ALL  ;-b \"DR SHOCK\"</th>\n",
       "      <td>26</td>\n",
       "      <td>7310304000</td>\n",
       "    </tr>\n",
       "    <tr>\n",
       "      <th>! Metamorpho ;) \"Reflective and Wiser Seer\"</th>\n",
       "      <td>139</td>\n",
       "      <td>33299078400</td>\n",
       "    </tr>\n",
       "    <tr>\n",
       "      <th>!hype 2007 \"!hype\"</th>\n",
       "      <td>24</td>\n",
       "      <td>6308150400</td>\n",
       "    </tr>\n",
       "    <tr>\n",
       "      <th>\"-_mystikal_-\"</th>\n",
       "      <td>26</td>\n",
       "      <td>5783875200</td>\n",
       "    </tr>\n",
       "    <tr>\n",
       "      <th>\"Johnny Salzone\"</th>\n",
       "      <td>15</td>\n",
       "      <td>5619369600</td>\n",
       "    </tr>\n",
       "    <tr>\n",
       "      <th>\"The Woj\"</th>\n",
       "      <td>58</td>\n",
       "      <td>15187219200</td>\n",
       "    </tr>\n",
       "    <tr>\n",
       "      <th>\"aaaaaaambition\"</th>\n",
       "      <td>18</td>\n",
       "      <td>5282409600</td>\n",
       "    </tr>\n",
       "    <tr>\n",
       "      <th>\"allseasonscafe\"</th>\n",
       "      <td>37</td>\n",
       "      <td>8418384000</td>\n",
       "    </tr>\n",
       "    <tr>\n",
       "      <th>\"american_psyco12\"</th>\n",
       "      <td>61</td>\n",
       "      <td>13385520000</td>\n",
       "    </tr>\n",
       "  </tbody>\n",
       "</table>\n",
       "</div>"
      ],
      "text/plain": [
       "                                             overall  unixReviewTime\n",
       "reviewerName                                                        \n",
       " TM                                               35      7836998400\n",
       "! MR. KNOW IT ALL  ;-b \"DR SHOCK\"                 26      7310304000\n",
       "! Metamorpho ;) \"Reflective and Wiser Seer\"      139     33299078400\n",
       "!hype 2007 \"!hype\"                                24      6308150400\n",
       "\"-_mystikal_-\"                                    26      5783875200\n",
       "\"Johnny Salzone\"                                  15      5619369600\n",
       "\"The Woj\"                                         58     15187219200\n",
       "\"aaaaaaambition\"                                  18      5282409600\n",
       "\"allseasonscafe\"                                  37      8418384000\n",
       "\"american_psyco12\"                                61     13385520000"
      ]
     },
     "execution_count": 32,
     "metadata": {},
     "output_type": "execute_result"
    }
   ],
   "source": [
    "reviews.groupby(\"reviewerName\").sum().head(10)"
   ]
  },
  {
   "cell_type": "code",
   "execution_count": 33,
   "metadata": {},
   "outputs": [
    {
     "data": {
      "text/html": [
       "<div>\n",
       "<style scoped>\n",
       "    .dataframe tbody tr th:only-of-type {\n",
       "        vertical-align: middle;\n",
       "    }\n",
       "\n",
       "    .dataframe tbody tr th {\n",
       "        vertical-align: top;\n",
       "    }\n",
       "\n",
       "    .dataframe thead th {\n",
       "        text-align: right;\n",
       "    }\n",
       "</style>\n",
       "<table border=\"1\" class=\"dataframe\">\n",
       "  <thead>\n",
       "    <tr style=\"text-align: right;\">\n",
       "      <th></th>\n",
       "      <th>overall</th>\n",
       "      <th>unixReviewTime</th>\n",
       "    </tr>\n",
       "    <tr>\n",
       "      <th>asin</th>\n",
       "      <th></th>\n",
       "      <th></th>\n",
       "    </tr>\n",
       "  </thead>\n",
       "  <tbody>\n",
       "    <tr>\n",
       "      <th>B001UXJQLA</th>\n",
       "      <td>1.400000</td>\n",
       "      <td>1.253802e+09</td>\n",
       "    </tr>\n",
       "    <tr>\n",
       "      <th>B0002XEDSU</th>\n",
       "      <td>1.562500</td>\n",
       "      <td>1.123151e+09</td>\n",
       "    </tr>\n",
       "    <tr>\n",
       "      <th>B004S5S83Y</th>\n",
       "      <td>1.714286</td>\n",
       "      <td>1.308725e+09</td>\n",
       "    </tr>\n",
       "    <tr>\n",
       "      <th>B000XQ1YOM</th>\n",
       "      <td>1.800000</td>\n",
       "      <td>1.205245e+09</td>\n",
       "    </tr>\n",
       "    <tr>\n",
       "      <th>B001UQSE7O</th>\n",
       "      <td>1.800000</td>\n",
       "      <td>1.306800e+09</td>\n",
       "    </tr>\n",
       "  </tbody>\n",
       "</table>\n",
       "</div>"
      ],
      "text/plain": [
       "             overall  unixReviewTime\n",
       "asin                                \n",
       "B001UXJQLA  1.400000    1.253802e+09\n",
       "B0002XEDSU  1.562500    1.123151e+09\n",
       "B004S5S83Y  1.714286    1.308725e+09\n",
       "B000XQ1YOM  1.800000    1.205245e+09\n",
       "B001UQSE7O  1.800000    1.306800e+09"
      ]
     },
     "execution_count": 33,
     "metadata": {},
     "output_type": "execute_result"
    }
   ],
   "source": [
    "reviews.groupby(\"asin\").mean().sort_values(\"overall\").head()"
   ]
  },
  {
   "cell_type": "code",
   "execution_count": 47,
   "metadata": {},
   "outputs": [
    {
     "name": "stdout",
     "output_type": "stream",
     "text": [
      "CPU times: user 5 µs, sys: 3 µs, total: 8 µs\n",
      "Wall time: 13.4 µs\n"
     ]
    },
    {
     "data": {
      "text/plain": [
       "11340"
      ]
     },
     "execution_count": 47,
     "metadata": {},
     "output_type": "execute_result"
    }
   ],
   "source": [
    "%time\n",
    "after_that = reviews.unixReviewTime > 1275782400\n",
    "overwall_greater_then = reviews.overall > 3\n",
    "\n",
    "lines, _ = reviews[after_that & overwall_greater_then].shape\n",
    "\n",
    "lines"
   ]
  },
  {
   "cell_type": "code",
   "execution_count": 59,
   "metadata": {},
   "outputs": [],
   "source": [
    "lista_compras = [\"bacon\", \"carne\", \"leite\", \"ovos\", \"cerveja\", \"manteiga\"]\n",
    "receita = {\n",
    "    \"ingredientes\": [\"ovos\", \"bacon\", \"cebola\"],\n",
    "    \"passos\": [\"quebrar ovos\", \"colocar no fogo\", \"mexer\", \"colocar sal\"],\n",
    "    \"tempo_preparo\": 20\n",
    "}\n"
   ]
  },
  {
   "cell_type": "code",
   "execution_count": 60,
   "metadata": {},
   "outputs": [
    {
     "data": {
      "text/plain": [
       "['ovos', 'bacon', 'cebola']"
      ]
     },
     "execution_count": 60,
     "metadata": {},
     "output_type": "execute_result"
    }
   ],
   "source": [
    "receita[\"ingredientes\"]"
   ]
  },
  {
   "cell_type": "code",
   "execution_count": 61,
   "metadata": {},
   "outputs": [],
   "source": [
    "receita[\"dificuldade\"] = \"facil\""
   ]
  },
  {
   "cell_type": "code",
   "execution_count": 62,
   "metadata": {},
   "outputs": [],
   "source": [
    "receita[\"chef\"] = \"Adriano\""
   ]
  },
  {
   "cell_type": "code",
   "execution_count": 63,
   "metadata": {},
   "outputs": [
    {
     "data": {
      "text/plain": [
       "{'ingredientes': ['ovos', 'bacon', 'cebola'],\n",
       " 'passos': ['quebrar ovos', 'colocar no fogo', 'mexer', 'colocar sal'],\n",
       " 'tempo_preparo': 20,\n",
       " 'dificuldade': 'facil',\n",
       " 'chef': 'Adriano'}"
      ]
     },
     "execution_count": 63,
     "metadata": {},
     "output_type": "execute_result"
    }
   ],
   "source": [
    "receita"
   ]
  },
  {
   "cell_type": "code",
   "execution_count": 65,
   "metadata": {},
   "outputs": [
    {
     "data": {
      "text/html": [
       "<div>\n",
       "<style scoped>\n",
       "    .dataframe tbody tr th:only-of-type {\n",
       "        vertical-align: middle;\n",
       "    }\n",
       "\n",
       "    .dataframe tbody tr th {\n",
       "        vertical-align: top;\n",
       "    }\n",
       "\n",
       "    .dataframe thead th {\n",
       "        text-align: right;\n",
       "    }\n",
       "</style>\n",
       "<table border=\"1\" class=\"dataframe\">\n",
       "  <thead>\n",
       "    <tr style=\"text-align: right;\">\n",
       "      <th></th>\n",
       "      <th>asin</th>\n",
       "      <th>helpful</th>\n",
       "      <th>overall</th>\n",
       "      <th>reviewText</th>\n",
       "      <th>reviewTime</th>\n",
       "      <th>reviewerID</th>\n",
       "      <th>reviewerName</th>\n",
       "      <th>summary</th>\n",
       "      <th>unixReviewTime</th>\n",
       "    </tr>\n",
       "  </thead>\n",
       "  <tbody>\n",
       "    <tr>\n",
       "      <th>0</th>\n",
       "      <td>5555991584</td>\n",
       "      <td>[3, 3]</td>\n",
       "      <td>5</td>\n",
       "      <td>It's hard to believe \"Memory of Trees\" came ou...</td>\n",
       "      <td>09 12, 2006</td>\n",
       "      <td>A3EBHHCZO6V2A4</td>\n",
       "      <td>Amaranth \"music fan\"</td>\n",
       "      <td>Enya's last great album</td>\n",
       "      <td>1158019200</td>\n",
       "    </tr>\n",
       "    <tr>\n",
       "      <th>1</th>\n",
       "      <td>5555991584</td>\n",
       "      <td>[0, 0]</td>\n",
       "      <td>5</td>\n",
       "      <td>A clasically-styled and introverted album, Mem...</td>\n",
       "      <td>06 3, 2001</td>\n",
       "      <td>AZPWAXJG9OJXV</td>\n",
       "      <td>bethtexas</td>\n",
       "      <td>Enya at her most elegant</td>\n",
       "      <td>991526400</td>\n",
       "    </tr>\n",
       "    <tr>\n",
       "      <th>2</th>\n",
       "      <td>5555991584</td>\n",
       "      <td>[2, 2]</td>\n",
       "      <td>5</td>\n",
       "      <td>I never thought Enya would reach the sublime h...</td>\n",
       "      <td>07 14, 2003</td>\n",
       "      <td>A38IRL0X2T4DPF</td>\n",
       "      <td>bob turnley</td>\n",
       "      <td>The best so far</td>\n",
       "      <td>1058140800</td>\n",
       "    </tr>\n",
       "    <tr>\n",
       "      <th>3</th>\n",
       "      <td>5555991584</td>\n",
       "      <td>[1, 1]</td>\n",
       "      <td>5</td>\n",
       "      <td>This is the third review of an irish album I w...</td>\n",
       "      <td>05 3, 2000</td>\n",
       "      <td>A22IK3I6U76GX0</td>\n",
       "      <td>Calle</td>\n",
       "      <td>Ireland produces good music.</td>\n",
       "      <td>957312000</td>\n",
       "    </tr>\n",
       "    <tr>\n",
       "      <th>4</th>\n",
       "      <td>5555991584</td>\n",
       "      <td>[1, 1]</td>\n",
       "      <td>4</td>\n",
       "      <td>Enya, despite being a successful recording art...</td>\n",
       "      <td>01 17, 2008</td>\n",
       "      <td>A1AISPOIIHTHXX</td>\n",
       "      <td>Cloud \"...\"</td>\n",
       "      <td>4.5; music to dream to</td>\n",
       "      <td>1200528000</td>\n",
       "    </tr>\n",
       "  </tbody>\n",
       "</table>\n",
       "</div>"
      ],
      "text/plain": [
       "         asin helpful  overall  \\\n",
       "0  5555991584  [3, 3]        5   \n",
       "1  5555991584  [0, 0]        5   \n",
       "2  5555991584  [2, 2]        5   \n",
       "3  5555991584  [1, 1]        5   \n",
       "4  5555991584  [1, 1]        4   \n",
       "\n",
       "                                          reviewText   reviewTime  \\\n",
       "0  It's hard to believe \"Memory of Trees\" came ou...  09 12, 2006   \n",
       "1  A clasically-styled and introverted album, Mem...   06 3, 2001   \n",
       "2  I never thought Enya would reach the sublime h...  07 14, 2003   \n",
       "3  This is the third review of an irish album I w...   05 3, 2000   \n",
       "4  Enya, despite being a successful recording art...  01 17, 2008   \n",
       "\n",
       "       reviewerID          reviewerName                       summary  \\\n",
       "0  A3EBHHCZO6V2A4  Amaranth \"music fan\"       Enya's last great album   \n",
       "1   AZPWAXJG9OJXV             bethtexas      Enya at her most elegant   \n",
       "2  A38IRL0X2T4DPF           bob turnley               The best so far   \n",
       "3  A22IK3I6U76GX0                 Calle  Ireland produces good music.   \n",
       "4  A1AISPOIIHTHXX           Cloud \"...\"        4.5; music to dream to   \n",
       "\n",
       "   unixReviewTime  \n",
       "0      1158019200  \n",
       "1       991526400  \n",
       "2      1058140800  \n",
       "3       957312000  \n",
       "4      1200528000  "
      ]
     },
     "execution_count": 65,
     "metadata": {},
     "output_type": "execute_result"
    }
   ],
   "source": [
    "reviews.head()"
   ]
  },
  {
   "cell_type": "code",
   "execution_count": 85,
   "metadata": {},
   "outputs": [
    {
     "data": {
      "text/plain": [
       "4.22251414088338"
      ]
     },
     "execution_count": 85,
     "metadata": {},
     "output_type": "execute_result"
    }
   ],
   "source": [
    "average = reviews[\"overall\"].mean()\n",
    "average"
   ]
  },
  {
   "cell_type": "code",
   "execution_count": 100,
   "metadata": {},
   "outputs": [
    {
     "data": {
      "text/plain": [
       "(16919, 9)"
      ]
     },
     "execution_count": 100,
     "metadata": {},
     "output_type": "execute_result"
    }
   ],
   "source": [
    "has_good = reviews.reviewText.str.contains(\"good\", case=False)\n",
    "greater_then_mean = reviews.overall > average\n",
    "\n",
    "has_bad = reviews.reviewText.str.contains(\"bad\", case=False)\n",
    "smaller_then_mean = reviews.overall < average\n",
    "\n",
    "reviews[(has_good & greater_then_mean) | (has_bad & smaller_then_mean)].shape"
   ]
  },
  {
   "cell_type": "code",
   "execution_count": 110,
   "metadata": {},
   "outputs": [
    {
     "name": "stdout",
     "output_type": "stream",
     "text": [
      "18.465057336259388% of reviews with Good\n",
      "7.682440577380769% of reviews with Good\n"
     ]
    }
   ],
   "source": [
    "total, _ = reviews.shape\n",
    "\n",
    "used_good, _ = reviews[(has_good & greater_then_mean)].shape\n",
    "used_bad, _ = reviews[(has_bad & smaller_then_mean)].shape\n",
    "\n",
    "good_percent = (used_good/total)*100\n",
    "print(f\"{good_percent}% of reviews with Good\")\n",
    "\n",
    "bad_percent = (used_bad/total)*100\n",
    "print(f\"{bad_percent}% of reviews with Good\")"
   ]
  },
  {
   "cell_type": "markdown",
   "metadata": {},
   "source": [
    "# Gráficos"
   ]
  },
  {
   "cell_type": "code",
   "execution_count": 115,
   "metadata": {},
   "outputs": [
    {
     "data": {
      "text/plain": [
       "<matplotlib.axes._subplots.AxesSubplot at 0x7f61ad8cb588>"
      ]
     },
     "execution_count": 115,
     "metadata": {},
     "output_type": "execute_result"
    },
    {
     "data": {
      "image/png": "[encoded data removed]",
      "text/plain": [
       "<Figure size 432x288 with 1 Axes>"
      ]
     },
     "metadata": {
      "needs_background": "light"
     },
     "output_type": "display_data"
    }
   ],
   "source": [
    "%matplotlib inline\n",
    "reviews.overall.hist()"
   ]
  },
  {
   "cell_type": "code",
   "execution_count": 118,
   "metadata": {},
   "outputs": [
    {
     "data": {
      "text/plain": [
       "<matplotlib.axes._subplots.AxesSubplot at 0x7f61ad173cc0>"
      ]
     },
     "execution_count": 118,
     "metadata": {},
     "output_type": "execute_result"
    },
    {
     "data": {
      "image/png": "[encoded data removed]",
      "text/plain": [
       "<Figure size 432x288 with 1 Axes>"
      ]
     },
     "metadata": {
      "needs_background": "light"
     },
     "output_type": "display_data"
    }
   ],
   "source": [
    "%matplotlib inline\n",
    "import seaborn as sns\n",
    "sns.distplot(reviews.overall, bins=10, kde=False)\n",
    "# kde = kernel density estimate"
   ]
  },
  {
   "cell_type": "code",
   "execution_count": 140,
   "metadata": {},
   "outputs": [
    {
     "data": {
      "text/plain": [
       "<matplotlib.axes._subplots.AxesSubplot at 0x7f61acdb5208>"
      ]
     },
     "execution_count": 140,
     "metadata": {},
     "output_type": "execute_result"
    },
    {
     "data": {
      "image/png": "[encoded data removed]",
      "text/plain": [
       "<Figure size 432x288 with 1 Axes>"
      ]
     },
     "metadata": {
      "needs_background": "light"
     },
     "output_type": "display_data"
    }
   ],
   "source": [
    "# review_dates = pandas.to_datetime(reviews[\"unixReviewTime\"])\n",
    "\n",
    "sns.distplot(reviews[\"unixReviewTime\"], bins=100, kde=False)\n"
   ]
  },
  {
   "cell_type": "code",
   "execution_count": 155,
   "metadata": {},
   "outputs": [
    {
     "data": {
      "text/plain": [
       "32327    [3, 5]\n",
       "45637    [2, 2]\n",
       "Name: helpful, dtype: object"
      ]
     },
     "execution_count": 155,
     "metadata": {},
     "output_type": "execute_result"
    }
   ],
   "source": [
    "reviews.helpful.sample(2)"
   ]
  },
  {
   "cell_type": "code",
   "execution_count": 156,
   "metadata": {},
   "outputs": [],
   "source": [
    "def unhelp_helpful(linha):\n",
    "    helpful_list = linha[\"helpful\"]\n",
    "    return helpful_list[1] - helpful_list[0]"
   ]
  },
  {
   "cell_type": "code",
   "execution_count": 157,
   "metadata": {},
   "outputs": [],
   "source": [
    "unhelp = reviews.apply(unhelp_helpful, axis=1)"
   ]
  },
  {
   "cell_type": "code",
   "execution_count": 158,
   "metadata": {},
   "outputs": [
    {
     "data": {
      "text/plain": [
       "0    0\n",
       "1    0\n",
       "2    0\n",
       "3    0\n",
       "4    0\n",
       "5    3\n",
       "6    4\n",
       "7    0\n",
       "8    0\n",
       "9    0\n",
       "dtype: int64"
      ]
     },
     "execution_count": 158,
     "metadata": {},
     "output_type": "execute_result"
    }
   ],
   "source": [
    "unhelp.head(10)"
   ]
  },
  {
   "cell_type": "code",
   "execution_count": 159,
   "metadata": {},
   "outputs": [],
   "source": [
    "apply_max_serie = reviews['helpful'].apply(max)\n",
    "apply_min_serie = reviews['helpful'].apply(min)\n",
    "apply_unhelp = apply_max_serie - apply_min_serie\n"
   ]
  },
  {
   "cell_type": "code",
   "execution_count": 161,
   "metadata": {},
   "outputs": [],
   "source": [
    "reviews[\"helpful_unhelp\"] = apply_unhelp"
   ]
  },
  {
   "cell_type": "code",
   "execution_count": 163,
   "metadata": {},
   "outputs": [
    {
     "data": {
      "text/html": [
       "<div>\n",
       "<style scoped>\n",
       "    .dataframe tbody tr th:only-of-type {\n",
       "        vertical-align: middle;\n",
       "    }\n",
       "\n",
       "    .dataframe tbody tr th {\n",
       "        vertical-align: top;\n",
       "    }\n",
       "\n",
       "    .dataframe thead th {\n",
       "        text-align: right;\n",
       "    }\n",
       "</style>\n",
       "<table border=\"1\" class=\"dataframe\">\n",
       "  <thead>\n",
       "    <tr style=\"text-align: right;\">\n",
       "      <th></th>\n",
       "      <th>asin</th>\n",
       "      <th>helpful</th>\n",
       "      <th>overall</th>\n",
       "      <th>reviewText</th>\n",
       "      <th>reviewTime</th>\n",
       "      <th>reviewerID</th>\n",
       "      <th>reviewerName</th>\n",
       "      <th>summary</th>\n",
       "      <th>unixReviewTime</th>\n",
       "      <th>helpful_unhelp</th>\n",
       "    </tr>\n",
       "  </thead>\n",
       "  <tbody>\n",
       "    <tr>\n",
       "      <th>0</th>\n",
       "      <td>5555991584</td>\n",
       "      <td>[3, 3]</td>\n",
       "      <td>5</td>\n",
       "      <td>It's hard to believe \"Memory of Trees\" came ou...</td>\n",
       "      <td>09 12, 2006</td>\n",
       "      <td>A3EBHHCZO6V2A4</td>\n",
       "      <td>Amaranth \"music fan\"</td>\n",
       "      <td>Enya's last great album</td>\n",
       "      <td>1158019200</td>\n",
       "      <td>0</td>\n",
       "    </tr>\n",
       "    <tr>\n",
       "      <th>1</th>\n",
       "      <td>5555991584</td>\n",
       "      <td>[0, 0]</td>\n",
       "      <td>5</td>\n",
       "      <td>A clasically-styled and introverted album, Mem...</td>\n",
       "      <td>06 3, 2001</td>\n",
       "      <td>AZPWAXJG9OJXV</td>\n",
       "      <td>bethtexas</td>\n",
       "      <td>Enya at her most elegant</td>\n",
       "      <td>991526400</td>\n",
       "      <td>0</td>\n",
       "    </tr>\n",
       "    <tr>\n",
       "      <th>2</th>\n",
       "      <td>5555991584</td>\n",
       "      <td>[2, 2]</td>\n",
       "      <td>5</td>\n",
       "      <td>I never thought Enya would reach the sublime h...</td>\n",
       "      <td>07 14, 2003</td>\n",
       "      <td>A38IRL0X2T4DPF</td>\n",
       "      <td>bob turnley</td>\n",
       "      <td>The best so far</td>\n",
       "      <td>1058140800</td>\n",
       "      <td>0</td>\n",
       "    </tr>\n",
       "    <tr>\n",
       "      <th>3</th>\n",
       "      <td>5555991584</td>\n",
       "      <td>[1, 1]</td>\n",
       "      <td>5</td>\n",
       "      <td>This is the third review of an irish album I w...</td>\n",
       "      <td>05 3, 2000</td>\n",
       "      <td>A22IK3I6U76GX0</td>\n",
       "      <td>Calle</td>\n",
       "      <td>Ireland produces good music.</td>\n",
       "      <td>957312000</td>\n",
       "      <td>0</td>\n",
       "    </tr>\n",
       "    <tr>\n",
       "      <th>4</th>\n",
       "      <td>5555991584</td>\n",
       "      <td>[1, 1]</td>\n",
       "      <td>4</td>\n",
       "      <td>Enya, despite being a successful recording art...</td>\n",
       "      <td>01 17, 2008</td>\n",
       "      <td>A1AISPOIIHTHXX</td>\n",
       "      <td>Cloud \"...\"</td>\n",
       "      <td>4.5; music to dream to</td>\n",
       "      <td>1200528000</td>\n",
       "      <td>0</td>\n",
       "    </tr>\n",
       "    <tr>\n",
       "      <th>5</th>\n",
       "      <td>5555991584</td>\n",
       "      <td>[62, 65]</td>\n",
       "      <td>5</td>\n",
       "      <td>Who knows why I initially considered this to b...</td>\n",
       "      <td>07 30, 2003</td>\n",
       "      <td>A2P49WD75WHAG5</td>\n",
       "      <td>Daniel J. Hamlow</td>\n",
       "      <td>Dreamy unearthly magic continues with Eire's o...</td>\n",
       "      <td>1059523200</td>\n",
       "      <td>3</td>\n",
       "    </tr>\n",
       "    <tr>\n",
       "      <th>6</th>\n",
       "      <td>5555991584</td>\n",
       "      <td>[1, 5]</td>\n",
       "      <td>3</td>\n",
       "      <td>Enya is one of a few artists whom I consider s...</td>\n",
       "      <td>05 27, 2000</td>\n",
       "      <td>A3O90G1D7I5EGG</td>\n",
       "      <td>dev1</td>\n",
       "      <td>Have You Hugged A Tree Today?</td>\n",
       "      <td>959385600</td>\n",
       "      <td>4</td>\n",
       "    </tr>\n",
       "    <tr>\n",
       "      <th>7</th>\n",
       "      <td>5555991584</td>\n",
       "      <td>[5, 5]</td>\n",
       "      <td>5</td>\n",
       "      <td>Enya is one of of the most mysterious singers ...</td>\n",
       "      <td>12 21, 2002</td>\n",
       "      <td>A3EJYJC25OJVKK</td>\n",
       "      <td>Distant Voyageur \"Nicholas Computer\"</td>\n",
       "      <td>The album for a romantic autumn evening</td>\n",
       "      <td>1040428800</td>\n",
       "      <td>0</td>\n",
       "    </tr>\n",
       "    <tr>\n",
       "      <th>8</th>\n",
       "      <td>5555991584</td>\n",
       "      <td>[4, 4]</td>\n",
       "      <td>5</td>\n",
       "      <td>This is not another lousy Celtic New Age album...</td>\n",
       "      <td>01 4, 2007</td>\n",
       "      <td>A1DA8VOH9NR6C7</td>\n",
       "      <td>E. Minkovitch</td>\n",
       "      <td>Simply wonderful.</td>\n",
       "      <td>1167868800</td>\n",
       "      <td>0</td>\n",
       "    </tr>\n",
       "    <tr>\n",
       "      <th>9</th>\n",
       "      <td>5555991584</td>\n",
       "      <td>[12, 12]</td>\n",
       "      <td>5</td>\n",
       "      <td>Many times, AND WITH GOOD REASON, the \"new age...</td>\n",
       "      <td>05 12, 2003</td>\n",
       "      <td>A33TRNCQK4IUO7</td>\n",
       "      <td>guillermoj</td>\n",
       "      <td>A true gem, even if you don't love conventiona...</td>\n",
       "      <td>1052697600</td>\n",
       "      <td>0</td>\n",
       "    </tr>\n",
       "  </tbody>\n",
       "</table>\n",
       "</div>"
      ],
      "text/plain": [
       "         asin   helpful  overall  \\\n",
       "0  5555991584    [3, 3]        5   \n",
       "1  5555991584    [0, 0]        5   \n",
       "2  5555991584    [2, 2]        5   \n",
       "3  5555991584    [1, 1]        5   \n",
       "4  5555991584    [1, 1]        4   \n",
       "5  5555991584  [62, 65]        5   \n",
       "6  5555991584    [1, 5]        3   \n",
       "7  5555991584    [5, 5]        5   \n",
       "8  5555991584    [4, 4]        5   \n",
       "9  5555991584  [12, 12]        5   \n",
       "\n",
       "                                          reviewText   reviewTime  \\\n",
       "0  It's hard to believe \"Memory of Trees\" came ou...  09 12, 2006   \n",
       "1  A clasically-styled and introverted album, Mem...   06 3, 2001   \n",
       "2  I never thought Enya would reach the sublime h...  07 14, 2003   \n",
       "3  This is the third review of an irish album I w...   05 3, 2000   \n",
       "4  Enya, despite being a successful recording art...  01 17, 2008   \n",
       "5  Who knows why I initially considered this to b...  07 30, 2003   \n",
       "6  Enya is one of a few artists whom I consider s...  05 27, 2000   \n",
       "7  Enya is one of of the most mysterious singers ...  12 21, 2002   \n",
       "8  This is not another lousy Celtic New Age album...   01 4, 2007   \n",
       "9  Many times, AND WITH GOOD REASON, the \"new age...  05 12, 2003   \n",
       "\n",
       "       reviewerID                          reviewerName  \\\n",
       "0  A3EBHHCZO6V2A4                  Amaranth \"music fan\"   \n",
       "1   AZPWAXJG9OJXV                             bethtexas   \n",
       "2  A38IRL0X2T4DPF                           bob turnley   \n",
       "3  A22IK3I6U76GX0                                 Calle   \n",
       "4  A1AISPOIIHTHXX                           Cloud \"...\"   \n",
       "5  A2P49WD75WHAG5                      Daniel J. Hamlow   \n",
       "6  A3O90G1D7I5EGG                                  dev1   \n",
       "7  A3EJYJC25OJVKK  Distant Voyageur \"Nicholas Computer\"   \n",
       "8  A1DA8VOH9NR6C7                         E. Minkovitch   \n",
       "9  A33TRNCQK4IUO7                            guillermoj   \n",
       "\n",
       "                                             summary  unixReviewTime  \\\n",
       "0                            Enya's last great album      1158019200   \n",
       "1                           Enya at her most elegant       991526400   \n",
       "2                                    The best so far      1058140800   \n",
       "3                       Ireland produces good music.       957312000   \n",
       "4                             4.5; music to dream to      1200528000   \n",
       "5  Dreamy unearthly magic continues with Eire's o...      1059523200   \n",
       "6                      Have You Hugged A Tree Today?       959385600   \n",
       "7            The album for a romantic autumn evening      1040428800   \n",
       "8                                  Simply wonderful.      1167868800   \n",
       "9  A true gem, even if you don't love conventiona...      1052697600   \n",
       "\n",
       "   helpful_unhelp  \n",
       "0               0  \n",
       "1               0  \n",
       "2               0  \n",
       "3               0  \n",
       "4               0  \n",
       "5               3  \n",
       "6               4  \n",
       "7               0  \n",
       "8               0  \n",
       "9               0  "
      ]
     },
     "execution_count": 163,
     "metadata": {},
     "output_type": "execute_result"
    }
   ],
   "source": [
    "reviews.head(10)"
   ]
  },
  {
   "cell_type": "code",
   "execution_count": 178,
   "metadata": {},
   "outputs": [],
   "source": [
    "def helpful_frac(linha):    \n",
    "    total = linha.helpful[1]\n",
    "    if total == 0: return 0\n",
    "    return linha.helpful[0] / total\n",
    "\n",
    "help_frac = reviews.apply(helpful_frac, axis=1)"
   ]
  },
  {
   "cell_type": "code",
   "execution_count": 185,
   "metadata": {},
   "outputs": [],
   "source": [
    "reviews[\"helpful_frac\"] = help_frac"
   ]
  },
  {
   "cell_type": "code",
   "execution_count": 183,
   "metadata": {},
   "outputs": [
    {
     "data": {
      "text/html": [
       "<div>\n",
       "<style scoped>\n",
       "    .dataframe tbody tr th:only-of-type {\n",
       "        vertical-align: middle;\n",
       "    }\n",
       "\n",
       "    .dataframe tbody tr th {\n",
       "        vertical-align: top;\n",
       "    }\n",
       "\n",
       "    .dataframe thead th {\n",
       "        text-align: right;\n",
       "    }\n",
       "</style>\n",
       "<table border=\"1\" class=\"dataframe\">\n",
       "  <thead>\n",
       "    <tr style=\"text-align: right;\">\n",
       "      <th></th>\n",
       "      <th>asin</th>\n",
       "      <th>helpful</th>\n",
       "      <th>overall</th>\n",
       "      <th>reviewText</th>\n",
       "      <th>reviewTime</th>\n",
       "      <th>reviewerID</th>\n",
       "      <th>reviewerName</th>\n",
       "      <th>summary</th>\n",
       "      <th>unixReviewTime</th>\n",
       "      <th>helpful_unhelp</th>\n",
       "      <th>helpful_frac</th>\n",
       "    </tr>\n",
       "  </thead>\n",
       "  <tbody>\n",
       "    <tr>\n",
       "      <th>0</th>\n",
       "      <td>5555991584</td>\n",
       "      <td>[3, 3]</td>\n",
       "      <td>5</td>\n",
       "      <td>It's hard to believe \"Memory of Trees\" came ou...</td>\n",
       "      <td>09 12, 2006</td>\n",
       "      <td>A3EBHHCZO6V2A4</td>\n",
       "      <td>Amaranth \"music fan\"</td>\n",
       "      <td>Enya's last great album</td>\n",
       "      <td>1158019200</td>\n",
       "      <td>0</td>\n",
       "      <td>1.0</td>\n",
       "    </tr>\n",
       "    <tr>\n",
       "      <th>1</th>\n",
       "      <td>5555991584</td>\n",
       "      <td>[0, 0]</td>\n",
       "      <td>5</td>\n",
       "      <td>A clasically-styled and introverted album, Mem...</td>\n",
       "      <td>06 3, 2001</td>\n",
       "      <td>AZPWAXJG9OJXV</td>\n",
       "      <td>bethtexas</td>\n",
       "      <td>Enya at her most elegant</td>\n",
       "      <td>991526400</td>\n",
       "      <td>0</td>\n",
       "      <td>0.0</td>\n",
       "    </tr>\n",
       "    <tr>\n",
       "      <th>2</th>\n",
       "      <td>5555991584</td>\n",
       "      <td>[2, 2]</td>\n",
       "      <td>5</td>\n",
       "      <td>I never thought Enya would reach the sublime h...</td>\n",
       "      <td>07 14, 2003</td>\n",
       "      <td>A38IRL0X2T4DPF</td>\n",
       "      <td>bob turnley</td>\n",
       "      <td>The best so far</td>\n",
       "      <td>1058140800</td>\n",
       "      <td>0</td>\n",
       "      <td>1.0</td>\n",
       "    </tr>\n",
       "    <tr>\n",
       "      <th>3</th>\n",
       "      <td>5555991584</td>\n",
       "      <td>[1, 1]</td>\n",
       "      <td>5</td>\n",
       "      <td>This is the third review of an irish album I w...</td>\n",
       "      <td>05 3, 2000</td>\n",
       "      <td>A22IK3I6U76GX0</td>\n",
       "      <td>Calle</td>\n",
       "      <td>Ireland produces good music.</td>\n",
       "      <td>957312000</td>\n",
       "      <td>0</td>\n",
       "      <td>1.0</td>\n",
       "    </tr>\n",
       "    <tr>\n",
       "      <th>4</th>\n",
       "      <td>5555991584</td>\n",
       "      <td>[1, 1]</td>\n",
       "      <td>4</td>\n",
       "      <td>Enya, despite being a successful recording art...</td>\n",
       "      <td>01 17, 2008</td>\n",
       "      <td>A1AISPOIIHTHXX</td>\n",
       "      <td>Cloud \"...\"</td>\n",
       "      <td>4.5; music to dream to</td>\n",
       "      <td>1200528000</td>\n",
       "      <td>0</td>\n",
       "      <td>1.0</td>\n",
       "    </tr>\n",
       "  </tbody>\n",
       "</table>\n",
       "</div>"
      ],
      "text/plain": [
       "         asin helpful  overall  \\\n",
       "0  5555991584  [3, 3]        5   \n",
       "1  5555991584  [0, 0]        5   \n",
       "2  5555991584  [2, 2]        5   \n",
       "3  5555991584  [1, 1]        5   \n",
       "4  5555991584  [1, 1]        4   \n",
       "\n",
       "                                          reviewText   reviewTime  \\\n",
       "0  It's hard to believe \"Memory of Trees\" came ou...  09 12, 2006   \n",
       "1  A clasically-styled and introverted album, Mem...   06 3, 2001   \n",
       "2  I never thought Enya would reach the sublime h...  07 14, 2003   \n",
       "3  This is the third review of an irish album I w...   05 3, 2000   \n",
       "4  Enya, despite being a successful recording art...  01 17, 2008   \n",
       "\n",
       "       reviewerID          reviewerName                       summary  \\\n",
       "0  A3EBHHCZO6V2A4  Amaranth \"music fan\"       Enya's last great album   \n",
       "1   AZPWAXJG9OJXV             bethtexas      Enya at her most elegant   \n",
       "2  A38IRL0X2T4DPF           bob turnley               The best so far   \n",
       "3  A22IK3I6U76GX0                 Calle  Ireland produces good music.   \n",
       "4  A1AISPOIIHTHXX           Cloud \"...\"        4.5; music to dream to   \n",
       "\n",
       "   unixReviewTime  helpful_unhelp  helpful_frac  \n",
       "0      1158019200               0           1.0  \n",
       "1       991526400               0           0.0  \n",
       "2      1058140800               0           1.0  \n",
       "3       957312000               0           1.0  \n",
       "4      1200528000               0           1.0  "
      ]
     },
     "execution_count": 183,
     "metadata": {},
     "output_type": "execute_result"
    }
   ],
   "source": [
    "reviews.head(5)"
   ]
  },
  {
   "cell_type": "code",
   "execution_count": 186,
   "metadata": {},
   "outputs": [
    {
     "data": {
      "text/plain": [
       "<matplotlib.axes._subplots.AxesSubplot at 0x7f61ab342978>"
      ]
     },
     "execution_count": 186,
     "metadata": {},
     "output_type": "execute_result"
    },
    {
     "data": {
      "image/png": "[encoded data removed]",
      "text/plain": [
       "<Figure size 432x288 with 1 Axes>"
      ]
     },
     "metadata": {
      "needs_background": "light"
     },
     "output_type": "display_data"
    }
   ],
   "source": [
    "import seaborn as sns\n",
    "sns.boxplot(\"overall\", \"helpful_frac\", data = reviews)"
   ]
  },
  {
   "cell_type": "code",
   "execution_count": 187,
   "metadata": {},
   "outputs": [],
   "source": [
    "reviews.to_csv(\"reviews_bootcamp.csv\", index=False)"
   ]
  },
  {
   "cell_type": "code",
   "execution_count": 191,
   "metadata": {},
   "outputs": [],
   "source": [
    "reviews.to_html(\"reviews.html\", index=False)"
   ]
  },
  {
   "cell_type": "code",
   "execution_count": null,
   "metadata": {},
   "outputs": [],
   "source": []
  }
 ],
 "metadata": {
  "kernelspec": {
   "display_name": "Python 3",
   "language": "python",
   "name": "python3"
  },
  "language_info": {
   "codemirror_mode": {
    "name": "ipython",
    "version": 3
   },
   "file_extension": ".py",
   "mimetype": "text/x-python",
   "name": "python",
   "nbconvert_exporter": "python",
   "pygments_lexer": "ipython3",
   "version": "3.6.5"
  }
 },
 "nbformat": 4,
 "nbformat_minor": 2
}
