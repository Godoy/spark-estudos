{
 "cells": [
  {
   "cell_type": "markdown",
   "metadata": {},
   "source": [
    "# Spark Streaming"
   ]
  },
  {
   "cell_type": "code",
   "execution_count": null,
   "metadata": {},
   "outputs": [],
   "source": [
    "import os\n",
    "from pyspark.sql import SparkSession\n",
    "\n",
    "spark = SparkSession.builder.appName(\"sparkGodoy\") \\\n",
    "            .config(\"spark.executor.memory\", \"3g\")\\\n",
    "            .config(\"spark.driver.memory\", \"2g\")\\\n",
    "            .config(\"spark.executor.cores\", \"2\")\\\n",
    "            .config(\"spark.cores.max\", \"2\")\\\n",
    "            .config(\"spark.ui.port\", \"4046\")\\\n",
    "            .getOrCreate()"
   ]
  },
  {
   "cell_type": "code",
   "execution_count": null,
   "metadata": {},
   "outputs": [],
   "source": [
    "spark.sparkContext"
   ]
  },
  {
   "cell_type": "markdown",
   "metadata": {},
   "source": [
    "Recurso para fazer streaming no Jupyter, sem bloquear o notebook"
   ]
  },
  {
   "cell_type": "code",
   "execution_count": null,
   "metadata": {},
   "outputs": [],
   "source": [
    "from nbthread_spark.stream import StreamRunner"
   ]
  },
  {
   "cell_type": "code",
   "execution_count": null,
   "metadata": {},
   "outputs": [],
   "source": [
    "from pyspark.sql.types import StructField, StructType, StringType\n",
    "\n",
    "schema = StructType([\n",
    "    StructField(\"\", StringType(), True),\n",
    "    StructField(\"userId\", StringType(), True),\n",
    "    StructField(\"experiment\", StringType(), True),\n",
    "    StructField(\"alternative\", StringType(), True),\n",
    "    StructField(\"conversion\", StringType(), True)\n",
    "])"
   ]
  },
  {
   "cell_type": "markdown",
   "metadata": {},
   "source": [
    "Streaming estruturado usa Dataframe, o \"antigo\" usava RDD"
   ]
  },
  {
   "cell_type": "code",
   "execution_count": null,
   "metadata": {},
   "outputs": [],
   "source": [
    "def pshow(sparkDf, limit=10):\n",
    "    return sparkDf.limit(limit).toPandas()"
   ]
  },
  {
   "cell_type": "code",
   "execution_count": null,
   "metadata": {},
   "outputs": [],
   "source": [
    "csv_stream = spark.readStream.format(\"csv\").option(\"header\", \"true\").option(\"sep\", \",\")\\\n",
    "                    .schema(schema).csv(\"*test.csv\")"
   ]
  },
  {
   "cell_type": "code",
   "execution_count": null,
   "metadata": {},
   "outputs": [],
   "source": [
    "query = csv_stream.writeStream.format(\"memory\").queryName(\"ab_impressions\").start()\n",
    "stream = StreamRunner(query)\n",
    "stream.start()"
   ]
  },
  {
   "cell_type": "code",
   "execution_count": null,
   "metadata": {},
   "outputs": [],
   "source": [
    "spark.sql(\"select * from ab_impressions\").count()"
   ]
  },
  {
   "cell_type": "code",
   "execution_count": null,
   "metadata": {},
   "outputs": [],
   "source": [
    "stream.stop()"
   ]
  },
  {
   "cell_type": "markdown",
   "metadata": {},
   "source": [
    "## Amazon Music Reviews"
   ]
  },
  {
   "cell_type": "code",
   "execution_count": null,
   "metadata": {},
   "outputs": [],
   "source": [
    "from pyspark.sql.types import StructField, StructType, StringType, FloatType, TimestampType\n",
    "\n",
    "schema = StructType([\n",
    "    StructField(\"asin\", StringType(), True),\n",
    "    StructField(\"summary\", StringType(), True),\n",
    "    StructField(\"overall\", FloatType(), True),\n",
    "    StructField(\"reviewerID\", StringType(), True),\n",
    "    StructField(\"unixReviewTime\", TimestampType(), True)\n",
    "])\n",
    "\n",
    "json_stream = spark.readStream.format(\"json\").schema(schema).json(\"*amazon-music-reviews.json\")\n",
    "\n",
    "query = json_stream.writeStream.format(\"memory\").queryName(\"amazon_reviews\").start()\n",
    "stream = StreamRunner(query)\n",
    "stream.start()"
   ]
  },
  {
   "cell_type": "code",
   "execution_count": null,
   "metadata": {},
   "outputs": [],
   "source": [
    "pshow(spark.sql(\"select * from amazon_reviews\"))"
   ]
  },
  {
   "cell_type": "code",
   "execution_count": null,
   "metadata": {},
   "outputs": [],
   "source": [
    "pshow(spark.sql(\"select overall, count(*) as count from amazon_reviews group by overall order by overall\"))"
   ]
  },
  {
   "cell_type": "code",
   "execution_count": null,
   "metadata": {},
   "outputs": [],
   "source": [
    "reviews_df = spark.sql(\"select * from amazon_reviews\")\n",
    "reviews_count_df = reviews_df.groupBy(reviews_df[\"overall\"]).count()\n",
    "pshow(reviews_count_df)"
   ]
  },
  {
   "cell_type": "code",
   "execution_count": null,
   "metadata": {},
   "outputs": [],
   "source": [
    "stream.stop()"
   ]
  },
  {
   "cell_type": "code",
   "execution_count": null,
   "metadata": {},
   "outputs": [],
   "source": [
    "spark.catalog.listTables()"
   ]
  },
  {
   "cell_type": "code",
   "execution_count": null,
   "metadata": {},
   "outputs": [],
   "source": [
    "# spark.catalog.dropTempView(\"amazon_reviews_3\")"
   ]
  },
  {
   "cell_type": "markdown",
   "metadata": {},
   "source": [
    "# Kafka\n",
    "**A distributed streaming platform**"
   ]
  },
  {
   "cell_type": "code",
   "execution_count": null,
   "metadata": {},
   "outputs": [],
   "source": [
    "import json\n",
    "import time\n",
    "import csv\n",
    "\n",
    "from kafka import KafkaProducer\n",
    "# lambda define uma funcao anonima\n",
    "producer = KafkaProducer(\n",
    "    bootstrap_servers=\"localhost\", #9092\n",
    "    value_serializer=lambda v: json.dumps(v).encode(\"utf-8\") # transforma antes de enviar para o kafka\n",
    ")"
   ]
  },
  {
   "cell_type": "code",
   "execution_count": null,
   "metadata": {},
   "outputs": [],
   "source": [
    "for i in range(10):\n",
    "    with open(\"./ab_test.csv\") as ab_file:\n",
    "        reader = csv.DictReader(ab_file)\n",
    "        for row in reader: #cada row é um dict ordenado de chave\n",
    "            del row[\"\"] # remove coluna inutil com nome \"\"\n",
    "            future = producer.send(\"ab_bootcamp_godoy\", row) # enviando\n",
    "    print(i)\n",
    "#     time.sleep(10)"
   ]
  },
  {
   "cell_type": "code",
   "execution_count": null,
   "metadata": {},
   "outputs": [],
   "source": [
    "from kafka import KafkaConsumer\n",
    "\n",
    "consumer = KafkaConsumer(\n",
    "    bootstrap_servers=\"localhost\",\n",
    "    value_deserializer=lambda v: json.loads(v.decode(\"utf-8\")),\n",
    "    auto_offset_reset=\"earliest\" #fala que quer desde o primeiro registro\n",
    ")\n",
    "\n",
    "consumer.subscribe(\"ab_bootcamp_godoy\")\n",
    "\n",
    "for msg in consumer:\n",
    "    print(msg)"
   ]
  },
  {
   "cell_type": "code",
   "execution_count": null,
   "metadata": {
    "scrolled": true
   },
   "outputs": [],
   "source": [
    "consumer.metrics()"
   ]
  },
  {
   "cell_type": "code",
   "execution_count": null,
   "metadata": {},
   "outputs": [],
   "source": [
    "consumer.close()"
   ]
  },
  {
   "cell_type": "code",
   "execution_count": null,
   "metadata": {},
   "outputs": [],
   "source": []
  }
 ],
 "metadata": {
  "kernelspec": {
   "display_name": "Python 3",
   "language": "python",
   "name": "python3"
  },
  "language_info": {
   "codemirror_mode": {
    "name": "ipython",
    "version": 3
   },
   "file_extension": ".py",
   "mimetype": "text/x-python",
   "name": "python",
   "nbconvert_exporter": "python",
   "pygments_lexer": "ipython3",
   "version": "3.6.5"
  }
 },
 "nbformat": 4,
 "nbformat_minor": 2
}
